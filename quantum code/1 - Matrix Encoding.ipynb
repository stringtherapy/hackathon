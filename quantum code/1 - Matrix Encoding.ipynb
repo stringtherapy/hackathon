{
 "cells": [
  {
   "cell_type": "code",
   "execution_count": 1,
   "metadata": {},
   "outputs": [],
   "source": [
    "import numpy as np\n",
    "from numpy import linalg\n",
    "from scipy.linalg import sqrtm\n",
    "\n",
    "import networkx as nx\n",
    "\n",
    "import perceval as pcvl\n",
    "import perceval.components as comp\n",
    "from perceval.algorithm import Sampler\n",
    "\n",
    "import quandelibc as qc\n",
    "import matplotlib.pyplot as plt"
   ]
  },
  {
   "cell_type": "code",
   "execution_count": 2,
   "metadata": {},
   "outputs": [],
   "source": [
    "def random_graph_generation(n_nodes, p1, n_densest=0, p2=0):\n",
    "    '''Generates a random graph with:\n",
    "           .n_nodes as number of nodes and edge connectivity determined by probability p1\n",
    "           .n_densest - a subgraph of size n_densest with edge conections given by p2\n",
    "    '''\n",
    "    G1 = nx.Graph()\n",
    "    G1.add_nodes_from([k for k in range(n_nodes-n_densest)])\n",
    "\n",
    "    # adding edges with probability p1 for the given nodes\n",
    "    for i in range(n_nodes-n_densest):\n",
    "        for j in range(i + 1, n_nodes-n_densest):\n",
    "            r = np.random.random()\n",
    "            if r < p1:\n",
    "                G1.add_edge(i, j)\n",
    "\n",
    "    # adding edges with probability p2 for selected nodes with probability p2\n",
    "    G2 = nx.Graph()\n",
    "    G2.add_nodes_from([k for k in range(n_nodes-n_densest, n_nodes)])\n",
    "\n",
    "    # adding edges with probability p1 for the given nodes\n",
    "    for i in range(n_nodes-n_densest, n_nodes):\n",
    "        for j in range(i+1, n_nodes):\n",
    "            r = np.random.random()\n",
    "            if r < p2:\n",
    "                G2.add_edge(i, j)\n",
    "\n",
    "    G = nx.compose(G1, G2)\n",
    "    if n_densest != 0:\n",
    "        #n_connect=round(min(n_densest, n_nodes-n_densest)/2)+1\n",
    "        n_connect = round(n_densest/2)+1\n",
    "        for i in range(n_connect):\n",
    "            node1 = np.random.randint(n_nodes-n_densest)\n",
    "            node2 = np.random.randint(n_nodes-n_densest, n_nodes)\n",
    "            G.add_edge(node1, node2)\n",
    "\n",
    "    # so there is not isolated parts\n",
    "    if list(nx.isolates(G)) != [] or len(list(G.subgraph(c) for c in nx.connected_components(G))) > 1:\n",
    "        G1.clear()\n",
    "        G2.clear()\n",
    "        G.clear()\n",
    "        G = random_graph_generation(n_nodes, p1, n_densest, p2)\n",
    "\n",
    "    return G\n"
   ]
  },
  {
   "cell_type": "markdown",
   "metadata": {},
   "source": [
    "We construct *AdjToUnit()* now. Considering the singular value decomposition of $A$, from the theory part in the paper we have that if $$A=U\\Sigma V^T \\text{ and } s=\\sigma_{max}(A)$$\n",
    "then we can embed $A$ into a doubled-size unitary $U_A$ with the form:\n",
    "$$U_A:=\\begin{pmatrix}\n",
    "A_s & \\sqrt{I_{n \\times n} -A_s(A_s)^{T}} \\\\\n",
    "\\sqrt{I_{n \\times n} -(A_s)^{T}A_s}  & -(A_s)^{T}\\\\\n",
    "\\end{pmatrix}$$"
   ]
  },
  {
   "cell_type": "code",
   "execution_count": 3,
   "metadata": {},
   "outputs": [],
   "source": [
    "def to_unitary(A):\n",
    "    ''' Input: graph A either as:\n",
    "                                 an adjacency matrix of size mxm\n",
    "                                 a networkX graph with m nodes\n",
    "        Output: unitary with size 2mx2m\n",
    "    '''\n",
    "\n",
    "    if type(A) == type(nx.Graph()):\n",
    "        A = nx.to_numpy_array(A)\n",
    "    P1, D, V = linalg.svd(A)\n",
    "\n",
    "    c = np.max(D)\n",
    "    # if it is not complex, then np.sqrt will output nan in complex values\n",
    "    An = np.matrix(A/c, dtype=complex)\n",
    "    P = An\n",
    "    m = len(An)\n",
    "    Q = sqrtm(np.identity(m)-np.dot(An, An.conj().T))\n",
    "    R = sqrtm(np.identity(m)-np.dot(An.conj().T, An))\n",
    "    S = -An.conj().T\n",
    "    Ubmat = np.bmat([[P, Q], [R, S]])\n",
    "    Ubmat = Ubmat.real #to eliminate those \n",
    "    return (np.copy(Ubmat), c)\n"
   ]
  },
  {
   "cell_type": "code",
   "execution_count": 4,
   "metadata": {},
   "outputs": [],
   "source": [
    "def input_state(m):\n",
    "    '''input state for selection of our m modes\n",
    "        returns |1,1,1,...,0,0,0> m ones and m zeros'''\n",
    "    return np.append(np.ones(m), np.zeros(m)).astype(int)"
   ]
  },
  {
   "cell_type": "code",
   "execution_count": 5,
   "metadata": {},
   "outputs": [],
   "source": [
    "# Post selection of samples with photons only on first half modes\n",
    "def post_select(samples):\n",
    "    ''''post select on states that have all modes from m to 2*m as vacuum\n",
    "        can't have collision of first half'''\n",
    "    a = []\n",
    "    m = int(len(samples[0])/2)\n",
    "    for state in samples:\n",
    "        state = list(state)\n",
    "        if all(ele == state[m-1] for ele in state[:m]) and state[m-1] == 1:\n",
    "            # do not need to check if there is vacuum in the second half for several reasons!\n",
    "            a.append(state)\n",
    "    return a"
   ]
  },
  {
   "cell_type": "code",
   "execution_count": 6,
   "metadata": {},
   "outputs": [],
   "source": [
    "def perm_estimation(G, nb_samples, Ns_min=0):\n",
    "    '''Function to estimate the permanent given a graph G, a number of samples Ns and the minimum number of samples Ns_min\n",
    "    Recal that Ns is the number of samples to generate but, due to post-selection, we add Ns_min so that we don't do estimations with accepted samples to be zero\n",
    "    '''\n",
    "    if Ns_min == 0:\n",
    "        Ns_min = Ns\n",
    "\n",
    "    #Sampling_Backend = pcvl.BackendFactory().get_backend(\"SLOS\")\n",
    "    m = G.number_of_nodes()\n",
    "    in_state = input_state(m)\n",
    "\n",
    "    U, c = to_unitary(G)\n",
    "    U_matrix_pcvl = pcvl.Matrix(U)\n",
    "    unitary_component = comp.Unitary(U_matrix_pcvl)\n",
    "    proc = pcvl.Processor(\"SLOS\", unitary_component)\n",
    "    proc.with_input(pcvl.BasicState( in_state))\n",
    "    #simulator = Sampling_Backend(U)\n",
    "\n",
    "    samples = []\n",
    "    i = 0\n",
    "    sampler = Sampler(proc)\n",
    "    while len(samples) < Ns_min:\n",
    "        samples = sampler.samples(nb_samples)['results']\n",
    "        samples = post_select(samples)\n",
    "        i = i+1\n",
    "    print(\"Total number of samples: \", Ns*i)\n",
    "    print(\"Number of samples post:\", len(samples))\n",
    "    perm = (c**m)*np.sqrt(len(samples)/(Ns*i))\n",
    "    return perm\n"
   ]
  },
  {
   "cell_type": "code",
   "execution_count": 7,
   "metadata": {},
   "outputs": [],
   "source": [
    "def perm_estimation(G, nb_samples, Ns_min=0):\n",
    "    if Ns_min == 0:\n",
    "        Ns_min = nb_samples\n",
    "\n",
    "    if type(G) == type(nx.Graph()):\n",
    "        m = G.number_of_nodes()\n",
    "    else:\n",
    "        m = len(G)\n",
    "    in_state = input_state(m)\n",
    "\n",
    "    U, c = to_unitary(G)\n",
    "    U_matrix_pcvl = pcvl.Matrix(U)\n",
    "    unitary_component = comp.Unitary(U_matrix_pcvl)\n",
    "    proc = pcvl.Processor(\"CliffordClifford2017\", unitary_component)\n",
    "    proc.with_input(pcvl.BasicState(in_state))\n",
    "\n",
    "    samples_accepted = []\n",
    "    i = 0\n",
    "    sampler = Sampler(proc)\n",
    "    while len(samples_accepted) < Ns_min:\n",
    "        samples_accepted.append(list(sampler.samples(nb_samples)['results']))\n",
    "        samples_accepted = post_select(samples_accepted)\n",
    "        i = i+1\n",
    "    print(\"Total number of samples: \", nb_samples*i)\n",
    "    print(\"Number of samples post:\", len(samples_accepted))\n",
    "    perm = (c**m)*np.sqrt(len(samples_accepted)/(nb_samples*i))\n",
    "    return perm"
   ]
  },
  {
   "cell_type": "code",
   "execution_count": 8,
   "metadata": {},
   "outputs": [],
   "source": [
    "def perm_estimation(G, nb_samples=10, Ns_min=0):\n",
    "    if Ns_min == 0:\n",
    "        Ns_min = nb_samples\n",
    "\n",
    "    if type(G) == type(nx.Graph()):\n",
    "        m = G.number_of_nodes()\n",
    "    else:\n",
    "        m = len(G)\n",
    "    in_state = input_state(m)\n",
    "\n",
    "    U, c = to_unitary(G)\n",
    "    U_matrix_pcvl = pcvl.Matrix(U)\n",
    "    unitary_component = comp.Unitary(U_matrix_pcvl)\n",
    "    proc = pcvl.Processor(\"CliffordClifford2017\", unitary_component)\n",
    "    proc.with_input(pcvl.BasicState(in_state))\n",
    "\n",
    "    samples_accepted = []\n",
    "    i = 0\n",
    "    sampler = Sampler(proc)\n",
    "    while len(samples_accepted) < Ns_min:\n",
    "        samples = list(sampler.samples(nb_samples)['results'])\n",
    "        samples_accepted += post_select(samples)\n",
    "        i = i+1\n",
    "    print(\"Total number of samples: \", nb_samples*i)\n",
    "    print(\"Number of samples post:\", len(samples_accepted))\n",
    "    perm = (c**m)*np.sqrt(len(samples_accepted)/(nb_samples*i))\n",
    "    return perm"
   ]
  },
  {
   "cell_type": "code",
   "execution_count": 9,
   "metadata": {},
   "outputs": [],
   "source": [
    "m = 6\n",
    "p = 0.7\n",
    "Ns = 10"
   ]
  },
  {
   "cell_type": "code",
   "execution_count": 10,
   "metadata": {},
   "outputs": [
    {
     "name": "stdout",
     "output_type": "stream",
     "text": [
      "Total number of samples:  54700\n",
      "Number of samples post: 10\n"
     ]
    },
    {
     "data": {
      "text/plain": [
       "39.345341890366676"
      ]
     },
     "execution_count": 10,
     "metadata": {},
     "output_type": "execute_result"
    }
   ],
   "source": [
    "random_graph = random_graph_generation(m, p)\n",
    "perm_estimation(random_graph, Ns)"
   ]
  }
 ],
 "metadata": {
  "interpreter": {
   "hash": "765bd6793ea5362367183dba09c599ce34c84eeeb7f3172847d560f9d0858670"
  },
  "kernelspec": {
   "display_name": "hackathon",
   "language": "python",
   "name": "hackathon"
  },
  "language_info": {
   "codemirror_mode": {
    "name": "ipython",
    "version": 3
   },
   "file_extension": ".py",
   "mimetype": "text/x-python",
   "name": "python",
   "nbconvert_exporter": "python",
   "pygments_lexer": "ipython3",
   "version": "3.10.14"
  }
 },
 "nbformat": 4,
 "nbformat_minor": 4
}
