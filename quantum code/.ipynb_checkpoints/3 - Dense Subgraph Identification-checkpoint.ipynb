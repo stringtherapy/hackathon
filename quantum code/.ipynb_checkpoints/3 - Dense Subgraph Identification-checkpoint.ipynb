{
 "cells": [
  {
   "cell_type": "code",
   "execution_count": 18,
   "id": "79e4fbde",
   "metadata": {},
   "outputs": [],
   "source": [
    "import numpy as np\n",
    "from scipy.special import binom\n",
    "import itertools\n",
    "import networkx as nx\n",
    "\n",
    "import perceval as pcvl\n",
    "from perceval.algorithm import Sampler\n",
    "import perceval.components as comp"
   ]
  },
  {
   "cell_type": "markdown",
   "id": "ea62f095",
   "metadata": {},
   "source": [
    "Import of the file with the basic and auxiliary functions."
   ]
  },
  {
   "cell_type": "code",
   "execution_count": 19,
   "id": "d3e53226",
   "metadata": {},
   "outputs": [],
   "source": [
    "import functions"
   ]
  },
  {
   "cell_type": "code",
   "execution_count": 20,
   "id": "51ec8c02",
   "metadata": {},
   "outputs": [],
   "source": [
    "def post_selectionDSI(samples, k):\n",
    "    accepted = []\n",
    "    n_subg = int(len(samples[0])/2/k)\n",
    "    for sample in samples:\n",
    "        for i in range(n_subg):\n",
    "            if all(sample[k*i:k*i+k]) == 1:\n",
    "                accepted.append(sample)\n",
    "    return accepted"
   ]
  },
  {
   "cell_type": "code",
   "execution_count": 21,
   "id": "6a62353a",
   "metadata": {},
   "outputs": [],
   "source": [
    "def post_selectionDS(samples, k):\n",
    "    n_subg = int(len(samples[0])/2/k)\n",
    "    accepted = [sample for sample in samples for i in range(n_subg) if all(sample[k*i:k*i+k]) == 1]\n",
    "    return accepted"
   ]
  },
  {
   "cell_type": "code",
   "execution_count": 22,
   "id": "f6d4c63f",
   "metadata": {},
   "outputs": [],
   "source": [
    "def input_DS(m, k):\n",
    "    '''input state for selection columns\n",
    "             m - number of subgraphs\n",
    "             k - size of each subgraph (size to identify)\n",
    "        returns |1,1,1,...,0,0,0> k ones and k*m-k zeros'''\n",
    "    return np.append(np.append(np.ones(k), np.zeros(k*m-k)), np.zeros(k*m)).astype(int)"
   ]
  },
  {
   "cell_type": "code",
   "execution_count": 23,
   "id": "f7db1bde",
   "metadata": {},
   "outputs": [],
   "source": [
    "# Functions to generate the subgraphs to test\n",
    "def test_subgraphs(G, subG, size):\n",
    "    ''' inputs: \n",
    "                G - networkX graph \n",
    "                subG - list of nodes for selected subgraph\n",
    "                size - integer for size of subgraph to find\n",
    "        return:\n",
    "                all remaining possible subgraphs of size \"size\"-len(subG)'''\n",
    "\n",
    "    G_n = len(G.nodes)\n",
    "    subG_n = len(subG)\n",
    "    num_subgraphs = binom(G_n-subG_n, size-subG_n)\n",
    "    print(\"Number of possible subgraphs:\", num_subgraphs)\n",
    "\n",
    "    nodes = list(G.nodes)\n",
    "    test_nodes = [node for node in nodes if node not in subG]\n",
    "    test_list = list(itertools.combinations(test_nodes, size-subG_n))\n",
    "\n",
    "    poss_subg = [subG+list(i) for i in test_list]\n",
    "    return poss_subg"
   ]
  },
  {
   "cell_type": "code",
   "execution_count": 24,
   "id": "bc17e5dc",
   "metadata": {},
   "outputs": [],
   "source": [
    "# Functions to generate the subgraphs to test\n",
    "def construct_B(G, subG, k):\n",
    "    ''' inputs: \n",
    "                G - networkX graph \n",
    "                subG - list of nodes for selected subgraph\n",
    "                k - integer for size of subgraph to find\n",
    "        return:\n",
    "                matrix B containing all possible subgraphs of size k - dimensions are k*len(sub_m), k*len(sub_m)'''\n",
    "\n",
    "    G_n = len(G.nodes)\n",
    "    subG_n = len(subG)\n",
    "    num_subgraphs = int(binom(G_n-subG_n, k-subG_n))\n",
    "    print(\"Number of combinations for subgraphs:\", num_subgraphs)\n",
    "\n",
    "    nodes = list(G.nodes)\n",
    "    test_nodes = [node for node in nodes if node not in subG]\n",
    "    test_list = list(itertools.combinations(test_nodes, k-subG_n))\n",
    "\n",
    "    poss_subg = [subG+list(i) for i in test_list]\n",
    "\n",
    "    # Construction of B\n",
    "    sub_m = [nx.convert_matrix.to_numpy_array(\n",
    "        G.subgraph(sub_nodes)) for sub_nodes in poss_subg]\n",
    "    B = np.zeros((k*num_subgraphs, k*num_subgraphs))\n",
    "    for i, j in enumerate(sub_m):\n",
    "        B[k*i:k*i+k, 0:k] = j\n",
    "    return (B, poss_subg)"
   ]
  },
  {
   "cell_type": "code",
   "execution_count": 25,
   "id": "562b5fef",
   "metadata": {},
   "outputs": [],
   "source": [
    "def densest_subgraphs(G, seed, k, nb_samples, Ns_min=100):\n",
    "    '''Input: G - networkX graph to test \n",
    "              Ns - number of samples to generate with quantum device\n",
    "              seed - subgraph identified from optimized classical algorithm\n",
    "    return: subgraphs by order of selection'''\n",
    "\n",
    "    # Initialization and preparing the device\n",
    "    B = construct_B(G, seed, k)\n",
    "    in_state = input_DS(int(len(B[0])/k), k)\n",
    "    U, c = functions.to_unitary(B[0])\n",
    "\n",
    "    unitary_component = comp.Unitary(pcvl.Matrix(U))\n",
    "    proc = pcvl.Processor(\"CliffordClifford2017\", unitary_component)\n",
    "    proc.with_input(pcvl.BasicState(in_state))\n",
    "\n",
    "    # generating samples\n",
    "    samples = []\n",
    "    i = 0\n",
    "    sampler = Sampler(proc)\n",
    "    while len(samples) < Ns_min:\n",
    "        samples_device = sampler.samples(nb_samples)['results']\n",
    "        new_generation_samples = post_selectionDS(samples_device, k)\n",
    "        samples += new_generation_samples\n",
    "        i = i+1\n",
    "\n",
    "    timesG = np.zeros(len(B[1]))\n",
    "    print(\"Number of samples: \", len(samples), \"\\nTotal samples generated:\", nb_samples*i)\n",
    "    for sample in samples:\n",
    "        indexG = list(sample).index(1)\n",
    "        timesG[int(indexG/k)] = timesG[int(indexG/k)]+1\n",
    "    return sorted(zip(timesG, B[1]), reverse=True)"
   ]
  },
  {
   "cell_type": "markdown",
   "id": "bbef1598",
   "metadata": {},
   "source": [
    "Now we are ready to test! Here you have an example."
   ]
  },
  {
   "cell_type": "code",
   "execution_count": 26,
   "id": "e746edcf",
   "metadata": {},
   "outputs": [
    {
     "data": {
      "image/png": "[encoded data removed]",
      "text/plain": [
       "<Figure size 640x480 with 1 Axes>"
      ]
     },
     "metadata": {},
     "output_type": "display_data"
    }
   ],
   "source": [
    "GA = functions.random_graph_generation(6, 0.3, 3, 1)\n",
    "nx.draw_networkx(GA)"
   ]
  },
  {
   "cell_type": "code",
   "execution_count": 27,
   "id": "8b1a123d-becc-4372-a293-f9d984162cbd",
   "metadata": {},
   "outputs": [],
   "source": [
    "def plot_dense_subgraphs(ga, k, nb_samples=100, Ns_min=100):\n",
    "    res = densest_subgraphs(GA, [], 3, 100, Ns_min=100)\n",
    "    subgraph = res[0][-1]\n",
    "    for pos in subgraph:\n",
    "        nx.draw_networkx(GA.subgraph('F'), pos=pos, font_size=16, node_color='red', font_color='green')"
   ]
  },
  {
   "cell_type": "code",
   "execution_count": 28,
   "id": "c64b4936",
   "metadata": {},
   "outputs": [
    {
     "name": "stdout",
     "output_type": "stream",
     "text": [
      "Number of combinations for subgraphs: 20\n",
      "Number of samples:  100 \n",
      "Total samples generated: 287100\n",
      "[(100.0, [3, 4, 5]), (0.0, [2, 4, 5]), (0.0, [2, 3, 5]), (0.0, [2, 3, 4]), (0.0, [1, 4, 5]), (0.0, [1, 3, 5]), (0.0, [1, 3, 4]), (0.0, [1, 2, 5]), (0.0, [1, 2, 4]), (0.0, [1, 2, 3]), (0.0, [0, 4, 5]), (0.0, [0, 3, 5]), (0.0, [0, 3, 4]), (0.0, [0, 2, 5]), (0.0, [0, 2, 4]), (0.0, [0, 2, 3]), (0.0, [0, 1, 5]), (0.0, [0, 1, 4]), (0.0, [0, 1, 3]), (0.0, [0, 1, 2])]\n",
      "CPU times: user 9.99 s, sys: 2.74 s, total: 12.7 s\n",
      "Wall time: 9.74 s\n"
     ]
    }
   ],
   "source": [
    "%%time\n",
    "res = densest_subgraphs(GA, [], 3, 100, Ns_min=100)\n",
    "print(res)"
   ]
  },
  {
   "cell_type": "code",
   "execution_count": 29,
   "id": "2743335c-7fb4-49bb-a2af-d64e240d7c16",
   "metadata": {},
   "outputs": [],
   "source": [
    "def delete_weakest_link(graph,chosen_edge):\n",
    "    nodes = list(graph.nodes())\n",
    "    graph.remove_edge(nodes[chosen_edge[0]], nodes[chosen_edge[1]])\n",
    "    return graph"
   ]
  },
  {
   "cell_type": "code",
   "execution_count": 30,
   "id": "302d1846-862a-47ff-80b3-8266f64c02cd",
   "metadata": {},
   "outputs": [
    {
     "name": "stdout",
     "output_type": "stream",
     "text": [
      "Number of combinations for subgraphs: 15\n",
      "Number of samples:  103 \n",
      "Total samples generated: 600\n",
      "[2, 5]\n",
      "Number of combinations for subgraphs: 15\n",
      "Number of samples:  105 \n",
      "Total samples generated: 500\n",
      "[0, 3]\n",
      "Number of combinations for subgraphs: 15\n",
      "Number of samples:  102 \n",
      "Total samples generated: 400\n",
      "[4, 5]\n",
      "Number of combinations for subgraphs: 15\n",
      "Number of samples:  107 \n",
      "Total samples generated: 300\n",
      "[3, 4]\n",
      "Number of combinations for subgraphs: 15\n",
      "Number of samples:  101 \n",
      "Total samples generated: 200\n",
      "[1, 3]\n"
     ]
    }
   ],
   "source": [
    "for i in range(5):\n",
    "    res = densest_subgraphs(GA, [], 2, 100, Ns_min=100)\n",
    "    seed = res[0][-1]\n",
    "    print(seed)\n",
    "    delete_weakest_link(GA,seed)"
   ]
  },
  {
   "cell_type": "code",
   "execution_count": null,
   "id": "a709f686-a9ca-463e-8181-8b5c578b5e84",
   "metadata": {},
   "outputs": [],
   "source": []
  }
 ],
 "metadata": {
  "interpreter": {
   "hash": "765bd6793ea5362367183dba09c599ce34c84eeeb7f3172847d560f9d0858670"
  },
  "kernelspec": {
   "display_name": "hackathon",
   "language": "python",
   "name": "hackathon"
  },
  "language_info": {
   "codemirror_mode": {
    "name": "ipython",
    "version": 3
   },
   "file_extension": ".py",
   "mimetype": "text/x-python",
   "name": "python",
   "nbconvert_exporter": "python",
   "pygments_lexer": "ipython3",
   "version": "3.10.14"
  }
 },
 "nbformat": 4,
 "nbformat_minor": 5
}
