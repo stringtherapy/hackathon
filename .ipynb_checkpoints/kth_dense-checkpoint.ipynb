{
 "cells": [
  {
   "cell_type": "code",
   "execution_count": 1,
   "id": "13037527-067e-472b-8fe0-149574ad461c",
   "metadata": {},
   "outputs": [],
   "source": [
    "import k_dense\n",
    "import networkx as nx\n",
    "import functions\n",
    "import matplotlib.pyplot as plt\n",
    "from strawberryfields.apps import data, sample, subgraph, plot\n",
    "import plotly"
   ]
  },
  {
   "cell_type": "code",
   "execution_count": 2,
   "id": "d33fb79f-e531-4fac-bff4-9b913f1974e8",
   "metadata": {},
   "outputs": [],
   "source": [
    "def plot_chosen_subgraph(graph,subgraph):\n",
    "\tfig = plot.graph(graph, subgraph)\n",
    "\tfig.show()"
   ]
  },
  {
   "cell_type": "code",
   "execution_count": 3,
   "id": "e27f0909-28a0-4017-8d9c-1488d2cdc764",
   "metadata": {},
   "outputs": [],
   "source": [
    "n = 5\n",
    "p = 0.5\n",
    "k = 3"
   ]
  },
  {
   "cell_type": "code",
   "execution_count": 4,
   "id": "f5c0d464-b7b1-4ccb-aca3-4369fa78ada7",
   "metadata": {},
   "outputs": [],
   "source": [
    "graph = functions.random_graph_generation(n,p)\n",
    "fig = plot.graph(graph)\n",
    "#fig.show()"
   ]
  },
  {
   "cell_type": "code",
   "execution_count": null,
   "id": "ef22f1ba-067b-43fd-bca6-9f9db414337c",
   "metadata": {},
   "outputs": [],
   "source": [
    "dense = k_dense.indenify_kth_dense_subgraph(graph,k=k)\n",
    "print(dense)"
   ]
  },
  {
   "cell_type": "code",
   "execution_count": null,
   "id": "3ae8416c-7df6-4c6e-8ee2-ac440c1dd5b6",
   "metadata": {},
   "outputs": [],
   "source": [
    "k_dense.plot_chosen_subgraph(graph,dense)"
   ]
  },
  {
   "cell_type": "code",
   "execution_count": null,
   "id": "13dd93b4-07b5-4d2b-980f-f7f9b5b94a18",
   "metadata": {},
   "outputs": [],
   "source": [
    "functions.perm_estimation(graph, nb_samples=10)"
   ]
  },
  {
   "cell_type": "code",
   "execution_count": null,
   "id": "47cd57c5-5742-4a62-a530-46e170b0a5a4",
   "metadata": {},
   "outputs": [],
   "source": []
  }
 ],
 "metadata": {
  "kernelspec": {
   "display_name": "hackathon",
   "language": "python",
   "name": "hackathon"
  },
  "language_info": {
   "codemirror_mode": {
    "name": "ipython",
    "version": 3
   },
   "file_extension": ".py",
   "mimetype": "text/x-python",
   "name": "python",
   "nbconvert_exporter": "python",
   "pygments_lexer": "ipython3",
   "version": "3.10.14"
  }
 },
 "nbformat": 4,
 "nbformat_minor": 5
}
