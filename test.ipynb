{
 "cells": [
  {
   "cell_type": "code",
   "execution_count": 53,
   "id": "0dd60282-f383-4dec-8355-301c89cd68ca",
   "metadata": {},
   "outputs": [],
   "source": [
    "import perceval as pcvl\n",
    "import perceval.components as comp\n",
    "import numpy as np\n",
    "import networkx as nx\n",
    "from scipy.linalg import sqrtm\n",
    "from perceval.algorithm import Sampler\n",
    "from scipy.special import binom\n",
    "import itertools"
   ]
  },
  {
   "cell_type": "code",
   "execution_count": 52,
   "id": "bc9e9179-b9c3-4ba6-ba9d-35ab408d7ff0",
   "metadata": {},
   "outputs": [
    {
     "data": {
      "image/svg+xml": [
       "<?xml version=\"1.0\" encoding=\"UTF-8\"?>\n",
       "<svg xmlns=\"http://www.w3.org/2000/svg\" xmlns:xlink=\"http://www.w3.org/1999/xlink\"\n",
       "     width=\"257.5\" height=\"218.75\" viewBox=\"-28.0 0 206.0 175.0\">\n",
       "<defs>\n",
       "</defs>\n",
       "<path d=\"M10,25 L25,25\" stroke-width=\"3\" stroke=\"darkred\" stroke-linejoin=\"miter\" fill=\"none\" />\n",
       "<path d=\"M10,75 L25,75\" stroke-width=\"3\" stroke=\"darkred\" stroke-linejoin=\"miter\" fill=\"none\" />\n",
       "<path d=\"M10,125 L25,125\" stroke-width=\"3\" stroke=\"darkred\" stroke-linejoin=\"miter\" fill=\"none\" />\n",
       "<path d=\"M25,25 L53,25 L72,44\" stroke=\"darkred\" stroke-width=\"3\" fill=\"none\" />\n",
       "<path d=\"M78,44 L97,25 L125,25\" stroke=\"darkred\" stroke-width=\"3\" fill=\"none\" />\n",
       "<path d=\"M25,75 L53,75 L72,56\" stroke=\"darkred\" stroke-width=\"3\" fill=\"none\" />\n",
       "<path d=\"M78,56 L97,75 L125,75\" stroke=\"darkred\" stroke-width=\"3\" fill=\"none\" />\n",
       "<path d=\"M50,43 L100,43 L100,57 L50,57 Z\" stroke=\"black\" fill=\"black\" stroke-linejoin=\"miter\" />\n",
       "<text x=\"75\" y=\"85\" font-size=\"7\" text-anchor=\"middle\"></text>\n",
       "<text x=\"75\" y=\"26\" font-size=\"7\" text-anchor=\"middle\"></text>\n",
       "<path d=\"M50,43 L100,43 L100,47 L50,47 Z\" stroke=\"black\" fill=\"lightgray\" stroke-linejoin=\"miter\" />\n",
       "<path d=\"M93,50 L103,50 L103,60 L93,60 Z\" stroke=\"black\" fill=\"thistle\" stroke-linejoin=\"miter\" />\n",
       "<text x=\"98\" y=\"57\" font-size=\"6\" text-anchor=\"middle\">Rx</text>\n",
       "<path d=\"M25,125 L125,125\" stroke=\"darkred\" stroke-width=\"3\" fill=\"none\" />\n",
       "<path d=\"M125,25 L140,25\" stroke-width=\"3\" stroke=\"darkred\" stroke-linejoin=\"miter\" fill=\"none\" />\n",
       "<path d=\"M125,75 L140,75\" stroke-width=\"3\" stroke=\"darkred\" stroke-linejoin=\"miter\" fill=\"none\" />\n",
       "<path d=\"M125,125 L140,125\" stroke-width=\"3\" stroke=\"darkred\" stroke-linejoin=\"miter\" fill=\"none\" />\n",
       "<text x=\"150\" y=\"28\" font-size=\"6\" text-anchor=\"end\">0</text>\n",
       "<text x=\"150\" y=\"78\" font-size=\"6\" text-anchor=\"end\">1</text>\n",
       "<text x=\"150\" y=\"128\" font-size=\"6\" text-anchor=\"end\">2</text>\n",
       "<text x=\"0\" y=\"28\" font-size=\"6\" text-anchor=\"start\">0</text>\n",
       "<text x=\"0\" y=\"78\" font-size=\"6\" text-anchor=\"start\">1</text>\n",
       "<text x=\"0\" y=\"128\" font-size=\"6\" text-anchor=\"start\">2</text>\n",
       "</svg>"
      ],
      "text/plain": [
       "<drawsvg.drawing.Drawing at 0x130110af0>"
      ]
     },
     "execution_count": 52,
     "metadata": {},
     "output_type": "execute_result"
    }
   ],
   "source": [
    "example_circuit = pcvl.Circuit(3)\n",
    "example_circuit.add((0,1), pcvl.BS())\n",
    "pcvl.pdisplay(example_circuit)"
   ]
  },
  {
   "cell_type": "code",
   "execution_count": 76,
   "id": "014def78-2d75-4588-b2f2-5734835a83e7",
   "metadata": {},
   "outputs": [],
   "source": [
    "unitary_matrix = pcvl.Matrix([[0, 0, 1],\n",
    "                [0, 1, 0],\n",
    "                [1, 0, 0]])"
   ]
  },
  {
   "cell_type": "code",
   "execution_count": 77,
   "id": "ad4c69ab-6b16-4835-95bb-4f0959a53c87",
   "metadata": {},
   "outputs": [],
   "source": [
    "#circuit_from_matrix = comp.Unitary(U=unitary_matrix)"
   ]
  },
  {
   "cell_type": "code",
   "execution_count": 78,
   "id": "31d4bd44-f398-4616-8430-b02571ec063f",
   "metadata": {},
   "outputs": [],
   "source": [
    "#pcvl.pdisplay(circuit_from_matrix)"
   ]
  },
  {
   "cell_type": "code",
   "execution_count": 80,
   "id": "c93b26c4-a72b-4953-b621-8b659d80a889",
   "metadata": {},
   "outputs": [
    {
     "data": {
      "text/plain": [
       "'\\nStep 1: Get Matrix of overall graph \\nUnitary of Matrix \\n    Step 2: Get all possible sub graphs (of size K) \\n    Step 3: Calculate permanents for each sub graph\\n    Step 4: Find the maximum permanents -> Density\\n'"
      ]
     },
     "execution_count": 80,
     "metadata": {},
     "output_type": "execute_result"
    }
   ],
   "source": [
    "'''\n",
    "Step 1: Get Matrix of overall graph \n",
    "Unitary of Matrix \n",
    "    Step 2: Get all possible sub graphs (of size K) \n",
    "    Step 3: Calculate permanents for each sub graph\n",
    "    Step 4: Find the maximum permanents -> Density\n",
    "'''"
   ]
  },
  {
   "cell_type": "code",
   "execution_count": 81,
   "id": "2b97556a-407a-43b4-9c11-e346b3a74946",
   "metadata": {},
   "outputs": [],
   "source": [
    "def to_unitary(A):\n",
    "    ''' Input: graph A either as:\n",
    "                                 an adjacency matrix of size mxm\n",
    "                                 a networkX graph with m nodes\n",
    "        Output: unitary with size 2mx2m\n",
    "    '''\n",
    "\n",
    "    if type(A) == type(nx.Graph()):\n",
    "        A = nx.to_numpy_array(A)\n",
    "    P1, D, V = np.linalg.svd(A)\n",
    "\n",
    "    c = np.max(D)\n",
    "    # if it is not complex, then np.sqrt will output nan in complex values\n",
    "    An = np.matrix(A/c, dtype=complex)\n",
    "    P = An\n",
    "    m = len(An)\n",
    "    Q = sqrtm(np.identity(m)-np.dot(An, An.conj().T))\n",
    "    R = sqrtm(np.identity(m)-np.dot(An.conj().T, An))\n",
    "    S = -An.conj().T\n",
    "    Ubmat = np.bmat([[P, Q], [R, S]])\n",
    "    Ubmat = Ubmat.real #to eliminate those \n",
    "    return (np.copy(Ubmat), c)"
   ]
  },
  {
   "cell_type": "code",
   "execution_count": 82,
   "id": "e670eafb-298e-47fa-99f7-a5fdc26b8252",
   "metadata": {},
   "outputs": [],
   "source": [
    "def input_state(m):\n",
    "    '''input state for selection of our m modes\n",
    "        returns |1,1,1,...,0,0,0> m ones and m zeros'''\n",
    "    return np.append(np.ones(m), np.zeros(m)).astype(int)"
   ]
  },
  {
   "cell_type": "code",
   "execution_count": 83,
   "id": "29c4e798-049a-470b-b554-9a235571c476",
   "metadata": {},
   "outputs": [],
   "source": [
    "# Post selection of samples with photons only on first half modes\n",
    "def post_select(samples):\n",
    "    ''''post select on states that have all modes from m to 2*m as vacuum\n",
    "        can't have collision of first half'''\n",
    "    a = []\n",
    "    m = int(len(samples[0])/2)\n",
    "    for state in samples:\n",
    "        state = list(state)\n",
    "        if all(ele == state[m-1] for ele in state[:m]) and state[m-1] == 1:\n",
    "            # do not need to check if there is vacuum in the second half for several reasons!\n",
    "            a.append(state)\n",
    "    return a"
   ]
  },
  {
   "cell_type": "code",
   "execution_count": 84,
   "id": "14395f06-85dd-41d3-96da-e8dd68a4aa91",
   "metadata": {},
   "outputs": [],
   "source": [
    "def perm_estimation(G, nb_samples, Ns_min=0):\n",
    "    if Ns_min == 0:\n",
    "        Ns_min = nb_samples\n",
    "\n",
    "    if type(G) == type(nx.Graph()):\n",
    "        m = G.number_of_nodes()\n",
    "    else:\n",
    "        m = len(G)\n",
    "    in_state = input_state(m)\n",
    "\n",
    "    U, c = to_unitary(G)\n",
    "    U_matrix_pcvl = pcvl.Matrix(U)\n",
    "    unitary_component = comp.Unitary(U_matrix_pcvl)\n",
    "    proc = pcvl.Processor(\"CliffordClifford2017\", unitary_component)\n",
    "    proc.with_input(pcvl.BasicState(in_state))\n",
    "\n",
    "    samples_accepted = []\n",
    "    i = 0\n",
    "    sampler = Sampler(proc)\n",
    "    while len(samples_accepted) < Ns_min:\n",
    "        samples = list(sampler.samples(nb_samples)['results'])\n",
    "        samples_accepted += post_select(samples)\n",
    "        i = i+1\n",
    "    print(\"Total number of samples: \", nb_samples*i)\n",
    "    print(\"Number of samples post:\", len(samples_accepted))\n",
    "    perm = (c**m)*np.sqrt(len(samples_accepted)/(nb_samples*i))\n",
    "    return perm, samples"
   ]
  },
  {
   "cell_type": "code",
   "execution_count": 85,
   "id": "8e00f05e-3a61-48bc-bd23-92492c1c1b55",
   "metadata": {},
   "outputs": [],
   "source": [
    "# Functions to generate the subgraphs to test\n",
    "def construct_B(G, subG, k):\n",
    "    ''' inputs: \n",
    "                G - networkX graph \n",
    "                subG - list of nodes for selected subgraph\n",
    "                k - integer for size of subgraph to find\n",
    "        return:\n",
    "                matrix B containing all possible subgraphs of size k - dimensions are k*len(sub_m), k*len(sub_m)'''\n",
    "\n",
    "    G_n = len(G.nodes)\n",
    "    subG_n = len(subG)\n",
    "    num_subgraphs = int(binom(G_n-subG_n, k-subG_n))\n",
    "    print(\"Number of combinations for subgraphs:\", num_subgraphs)\n",
    "\n",
    "    nodes = list(G.nodes)\n",
    "    test_nodes = [node for node in nodes if node not in subG]\n",
    "    test_list = list(itertools.combinations(test_nodes, k-subG_n))\n",
    "\n",
    "    poss_subg = [subG+list(i) for i in test_list]\n",
    "\n",
    "    # Construction of B\n",
    "    sub_m = [nx.convert_matrix.to_numpy_array(\n",
    "        G.subgraph(sub_nodes)) for sub_nodes in poss_subg]\n",
    "    B = np.zeros((k*num_subgraphs, k*num_subgraphs))\n",
    "    for i, j in enumerate(sub_m):\n",
    "        B[k*i:k*i+k, 0:k] = j\n",
    "    return (B, poss_subg)"
   ]
  },
  {
   "cell_type": "code",
   "execution_count": 86,
   "id": "40e8f8f6-c90a-4ee8-9fec-18c31d4ccbaa",
   "metadata": {},
   "outputs": [],
   "source": [
    "def densest_subgraphs(G, seed, k, nb_samples, Ns_min=100):\n",
    "    '''Input: G - networkX graph to test \n",
    "              Ns - number of samples to generate with quantum device\n",
    "              seed - subgraph identified from optimized classical algorithm\n",
    "    return: subgraphs by order of selection'''\n",
    "\n",
    "    # Initialization and preparing the device\n",
    "    B = construct_B(G, seed, k)\n",
    "    in_state = input_DS(int(len(B[0])/k), k)\n",
    "    U, c = to_unitary(B[0])\n",
    "\n",
    "    unitary_component = comp.Unitary(pcvl.Matrix(U))\n",
    "    proc = pcvl.Processor(\"CliffordClifford2017\", unitary_component)\n",
    "    proc.with_input(pcvl.BasicState(in_state))\n",
    "\n",
    "    # generating samples\n",
    "    samples = []\n",
    "    i = 0\n",
    "    sampler = Sampler(proc)\n",
    "    while len(samples) < Ns_min:\n",
    "        samples_device = sampler.samples(nb_samples)['results']\n",
    "        new_generation_samples = post_selectionDS(samples_device, k)\n",
    "        samples += new_generation_samples\n",
    "        i = i+1\n",
    "\n",
    "    timesG = np.zeros(len(B[1]))\n",
    "    print(\"Number of samples: \", len(samples), \"\\nTotal samples generated:\", nb_samples*i)\n",
    "    for sample in samples:\n",
    "        indexG = list(sample).index(1)\n",
    "        timesG[int(indexG/k)] = timesG[int(indexG/k)]+1\n",
    "    return sorted(zip(timesG, B[1]), reverse=True)"
   ]
  },
  {
   "cell_type": "code",
   "execution_count": 87,
   "id": "f77b0ae1-3d07-4c6d-86b4-04b3a2fc12f0",
   "metadata": {},
   "outputs": [],
   "source": [
    "def input_DS(m, k):\n",
    "    '''input state for selection columns\n",
    "             m - number of subgraphs\n",
    "             k - size of each subgraph (size to identify)\n",
    "        returns |1,1,1,...,0,0,0> k ones and k*m-k zeros'''\n",
    "    return np.append(np.append(np.ones(k), np.zeros(k*m-k)), np.zeros(k*m)).astype(int)"
   ]
  },
  {
   "cell_type": "code",
   "execution_count": 88,
   "id": "44487498-fe29-434e-9ef1-7792d5ad810d",
   "metadata": {},
   "outputs": [],
   "source": [
    "def post_selectionDS(samples, k):\n",
    "    n_subg = int(len(samples[0])/2/k)\n",
    "    accepted = [sample for sample in samples for i in range(n_subg) if all(sample[k*i:k*i+k]) == 1]\n",
    "    return accepted"
   ]
  },
  {
   "cell_type": "markdown",
   "id": "820efd69-83d1-4a77-99aa-52d70f7d224e",
   "metadata": {},
   "source": [
    "#### 1) Define Graph"
   ]
  },
  {
   "cell_type": "code",
   "execution_count": 89,
   "id": "046c17e1-9af2-49c7-8e65-0ffc2562c1c7",
   "metadata": {},
   "outputs": [],
   "source": [
    "n_nodes = 7\n",
    "p1 = 0.7"
   ]
  },
  {
   "cell_type": "code",
   "execution_count": 90,
   "id": "294a72c0-6c14-499a-a7a3-18559dc5e67a",
   "metadata": {},
   "outputs": [],
   "source": [
    "graph = nx.erdos_renyi_graph(n=6,p=0.7)"
   ]
  },
  {
   "cell_type": "code",
   "execution_count": 91,
   "id": "fe0be3a0-f778-4bd8-84cd-269fcce1e17f",
   "metadata": {},
   "outputs": [
    {
     "data": {
      "image/png": "[encoded data removed]",
      "text/plain": [
       "<Figure size 640x480 with 1 Axes>"
      ]
     },
     "metadata": {},
     "output_type": "display_data"
    }
   ],
   "source": [
    "nx.draw_networkx(graph)"
   ]
  },
  {
   "cell_type": "markdown",
   "id": "b329c4d2-c99b-4fc5-891b-f23da105bd78",
   "metadata": {},
   "source": [
    "#### 2) Permanent Estimaton"
   ]
  },
  {
   "cell_type": "code",
   "execution_count": 92,
   "id": "429c7d2e-389e-46ff-a9fa-78bb69b9b822",
   "metadata": {},
   "outputs": [
    {
     "name": "stdout",
     "output_type": "stream",
     "text": [
      "Total number of samples:  96665\n",
      "Number of samples post: 5\n"
     ]
    }
   ],
   "source": [
    "Ns = 5 #number of samples to generate\n",
    "perm, samples = perm_estimation(graph, Ns)"
   ]
  },
  {
   "cell_type": "code",
   "execution_count": 93,
   "id": "6603cbf9-bda4-4acb-8846-34d856b488d2",
   "metadata": {},
   "outputs": [
    {
     "data": {
      "text/plain": [
       "8.057580711790312"
      ]
     },
     "execution_count": 93,
     "metadata": {},
     "output_type": "execute_result"
    }
   ],
   "source": [
    "perm"
   ]
  },
  {
   "cell_type": "markdown",
   "id": "72292d00-cfe0-4573-aec9-f45ee63f7729",
   "metadata": {},
   "source": [
    "#### 2) Densest Subgraph estimation"
   ]
  },
  {
   "cell_type": "code",
   "execution_count": 94,
   "id": "fd10cb86-3afd-43c4-891b-75f21bcc4dd8",
   "metadata": {},
   "outputs": [
    {
     "name": "stdout",
     "output_type": "stream",
     "text": [
      "Number of combinations for subgraphs: 10\n",
      "Number of samples:  100 \n",
      "Total samples generated: 78800\n"
     ]
    }
   ],
   "source": [
    "res = densest_subgraphs(graph, seed=[4], k=3, nb_samples=100, Ns_min=100)"
   ]
  },
  {
   "cell_type": "code",
   "execution_count": 95,
   "id": "db60dd10-a9c7-4e03-b5dd-b327e708642a",
   "metadata": {},
   "outputs": [
    {
     "data": {
      "text/plain": [
       "<function __main__.densest_subgraphs(G, seed, k, nb_samples, Ns_min=100)>"
      ]
     },
     "execution_count": 95,
     "metadata": {},
     "output_type": "execute_result"
    }
   ],
   "source": [
    "densest_subgraphs"
   ]
  },
  {
   "cell_type": "code",
   "execution_count": 96,
   "id": "f1c2cde7-c8b3-4134-b720-9f9a22181b91",
   "metadata": {},
   "outputs": [
    {
     "data": {
      "text/plain": [
       "[(100.0, [4, 1, 5]),\n",
       " (0.0, [4, 3, 5]),\n",
       " (0.0, [4, 2, 5]),\n",
       " (0.0, [4, 2, 3]),\n",
       " (0.0, [4, 1, 3]),\n",
       " (0.0, [4, 1, 2]),\n",
       " (0.0, [4, 0, 5]),\n",
       " (0.0, [4, 0, 3]),\n",
       " (0.0, [4, 0, 2]),\n",
       " (0.0, [4, 0, 1])]"
      ]
     },
     "execution_count": 96,
     "metadata": {},
     "output_type": "execute_result"
    }
   ],
   "source": [
    "res"
   ]
  },
  {
   "cell_type": "code",
   "execution_count": null,
   "id": "99c87294-aaeb-4463-830b-01b4a2ebd697",
   "metadata": {},
   "outputs": [],
   "source": []
  }
 ],
 "metadata": {
  "kernelspec": {
   "display_name": "hackathon",
   "language": "python",
   "name": "hackathon"
  },
  "language_info": {
   "codemirror_mode": {
    "name": "ipython",
    "version": 3
   },
   "file_extension": ".py",
   "mimetype": "text/x-python",
   "name": "python",
   "nbconvert_exporter": "python",
   "pygments_lexer": "ipython3",
   "version": "3.10.14"
  }
 },
 "nbformat": 4,
 "nbformat_minor": 5
}
