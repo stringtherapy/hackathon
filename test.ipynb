{
 "cells": [
  {
   "cell_type": "code",
   "execution_count": 1,
   "id": "0dd60282-f383-4dec-8355-301c89cd68ca",
   "metadata": {},
   "outputs": [],
   "source": [
    "import perceval as pcvl\n",
    "import perceval.components as comp\n",
    "import numpy as np\n",
    "import networkx as nx\n",
    "from scipy.linalg import sqrtm\n",
    "from perceval.algorithm import Sampler\n",
    "from scipy.special import binom\n",
    "import itertools\n",
    "import copy\n",
    "import matplotlib.pyplot as plt\n",
    "from tqdm import tqdm"
   ]
  },
  {
   "cell_type": "code",
   "execution_count": 2,
   "id": "c93b26c4-a72b-4953-b621-8b659d80a889",
   "metadata": {},
   "outputs": [
    {
     "data": {
      "text/plain": [
       "'\\nStep 1: Get Matrix of overall graph \\nUnitary of Matrix \\n    Step 2: Get all possible sub graphs (of size K) \\n    Step 3: Calculate permanents for each sub graph\\n    Step 4: Find the maximum permanents -> Density\\n'"
      ]
     },
     "execution_count": 2,
     "metadata": {},
     "output_type": "execute_result"
    }
   ],
   "source": [
    "'''\n",
    "Step 1: Get Matrix of overall graph \n",
    "Unitary of Matrix \n",
    "    Step 2: Get all possible sub graphs (of size K) \n",
    "    Step 3: Calculate permanents for each sub graph\n",
    "    Step 4: Find the maximum permanents -> Density\n",
    "'''"
   ]
  },
  {
   "cell_type": "code",
   "execution_count": 3,
   "id": "2b97556a-407a-43b4-9c11-e346b3a74946",
   "metadata": {},
   "outputs": [],
   "source": [
    "def to_unitary(A):\n",
    "    ''' Input: graph A either as:\n",
    "                                 an adjacency matrix of size mxm\n",
    "                                 a networkX graph with m nodes\n",
    "        Output: unitary with size 2mx2m\n",
    "    '''\n",
    "\n",
    "    if type(A) == type(nx.Graph()):\n",
    "        A = nx.to_numpy_array(A)\n",
    "    P1, D, V = np.linalg.svd(A)\n",
    "\n",
    "    c = np.max(D)\n",
    "    # if it is not complex, then np.sqrt will output nan in complex values\n",
    "    An = np.matrix(A/c, dtype=complex)\n",
    "    P = An\n",
    "    m = len(An)\n",
    "    Q = sqrtm(np.identity(m)-np.dot(An, An.conj().T))\n",
    "    R = sqrtm(np.identity(m)-np.dot(An.conj().T, An))\n",
    "    S = -An.conj().T\n",
    "    Ubmat = np.bmat([[P, Q], [R, S]])\n",
    "    Ubmat = Ubmat.real #to eliminate those \n",
    "    return (np.copy(Ubmat), c)"
   ]
  },
  {
   "cell_type": "code",
   "execution_count": 4,
   "id": "e670eafb-298e-47fa-99f7-a5fdc26b8252",
   "metadata": {},
   "outputs": [],
   "source": [
    "def input_state(m):\n",
    "    '''input state for selection of our m modes\n",
    "        returns |1,1,1,...,0,0,0> m ones and m zeros'''\n",
    "    return np.append(np.ones(m), np.zeros(m)).astype(int)"
   ]
  },
  {
   "cell_type": "code",
   "execution_count": 5,
   "id": "29c4e798-049a-470b-b554-9a235571c476",
   "metadata": {},
   "outputs": [],
   "source": [
    "# Post selection of samples with photons only on first half modes\n",
    "def post_select(samples):\n",
    "    ''''post select on states that have all modes from m to 2*m as vacuum\n",
    "        can't have collision of first half'''\n",
    "    a = []\n",
    "    m = int(len(samples[0])/2)\n",
    "    for state in samples:\n",
    "        state = list(state)\n",
    "        if all(ele == state[m-1] for ele in state[:m]) and state[m-1] == 1:\n",
    "            # do not need to check if there is vacuum in the second half for several reasons!\n",
    "            a.append(state)\n",
    "    return a"
   ]
  },
  {
   "cell_type": "code",
   "execution_count": 6,
   "id": "14395f06-85dd-41d3-96da-e8dd68a4aa91",
   "metadata": {},
   "outputs": [],
   "source": [
    "def perm_estimation(G, nb_samples, Ns_min=0):\n",
    "    if Ns_min == 0:\n",
    "        Ns_min = nb_samples\n",
    "\n",
    "    if type(G) == type(nx.Graph()):\n",
    "        m = G.number_of_nodes()\n",
    "    else:\n",
    "        m = len(G)\n",
    "    in_state = input_state(m)\n",
    "\n",
    "    U, c = to_unitary(G)\n",
    "    U_matrix_pcvl = pcvl.Matrix(U)\n",
    "    unitary_component = comp.Unitary(U_matrix_pcvl)\n",
    "    proc = pcvl.Processor(\"CliffordClifford2017\", unitary_component)\n",
    "    proc.with_input(pcvl.BasicState(in_state))\n",
    "\n",
    "    samples_accepted = []\n",
    "    i = 0\n",
    "    sampler = Sampler(proc)\n",
    "    while len(samples_accepted) < Ns_min:\n",
    "        samples = list(sampler.samples(nb_samples)['results'])\n",
    "        samples_accepted += post_select(samples)\n",
    "        i = i+1\n",
    "    #print(\"Total number of samples: \", nb_samples*i)\n",
    "    #print(\"Number of samples post:\", len(samples_accepted))\n",
    "    perm = (c**m)*np.sqrt(len(samples_accepted)/(nb_samples*i))\n",
    "    return perm, samples"
   ]
  },
  {
   "cell_type": "code",
   "execution_count": 7,
   "id": "8e00f05e-3a61-48bc-bd23-92492c1c1b55",
   "metadata": {},
   "outputs": [],
   "source": [
    "# Functions to generate the subgraphs to test\n",
    "def construct_B(G, subG, k):\n",
    "    ''' inputs: \n",
    "                G - networkX graph \n",
    "                subG - list of nodes for selected subgraph\n",
    "                k - integer for size of subgraph to find\n",
    "        return:\n",
    "                matrix B containing all possible subgraphs of size k - dimensions are k*len(sub_m), k*len(sub_m)'''\n",
    "\n",
    "    G_n = len(G.nodes)\n",
    "    subG_n = len(subG)\n",
    "    num_subgraphs = int(binom(G_n-subG_n, k-subG_n))\n",
    "    #print(\"Number of combinations for subgraphs:\", num_subgraphs)\n",
    "\n",
    "    nodes = list(G.nodes)\n",
    "    test_nodes = [node for node in nodes if node not in subG]\n",
    "    print(test_nodes)\n",
    "    test_list = list(itertools.combinations(test_nodes, k-subG_n))\n",
    "\n",
    "    poss_subg = [subG+list(i) for i in test_list]\n",
    "\n",
    "    # Construction of B\n",
    "    sub_m = [nx.convert_matrix.to_numpy_array(\n",
    "        G.subgraph(sub_nodes)) for sub_nodes in poss_subg]\n",
    "    B = np.zeros((k*num_subgraphs, k*num_subgraphs))\n",
    "    for i, j in enumerate(sub_m):\n",
    "        B[k*i:k*i+k, 0:k] = j\n",
    "    return (B, poss_subg)"
   ]
  },
  {
   "cell_type": "code",
   "execution_count": 8,
   "id": "40e8f8f6-c90a-4ee8-9fec-18c31d4ccbaa",
   "metadata": {},
   "outputs": [],
   "source": [
    "def densest_subgraphs(G, seed, k, nb_samples, Ns_min=100):\n",
    "    '''Input: G - networkX graph to test \n",
    "              Ns - number of samples to generate with quantum device\n",
    "              seed - subgraph identified from optimized classical algorithm\n",
    "    return: subgraphs by order of selection'''\n",
    "\n",
    "    # Initialization and preparing the device\n",
    "    B = construct_B(G, seed, k)\n",
    "    in_state = input_DS(int(len(B[0])/k), k)\n",
    "    U, c = to_unitary(B[0])\n",
    "\n",
    "    unitary_component = comp.Unitary(pcvl.Matrix(U))\n",
    "    proc = pcvl.Processor(\"CliffordClifford2017\", unitary_component)\n",
    "    proc.with_input(pcvl.BasicState(in_state))\n",
    "\n",
    "    # generating samples\n",
    "    samples = []\n",
    "    i = 0\n",
    "    sampler = Sampler(proc)\n",
    "    while len(samples) < Ns_min:\n",
    "        samples_device = sampler.samples(nb_samples)['results']\n",
    "        new_generation_samples = post_selectionDS(samples_device, k)\n",
    "        samples += new_generation_samples\n",
    "        i = i+1\n",
    "\n",
    "    timesG = np.zeros(len(B[1]))\n",
    "    #print(\"Number of samples: \", len(samples), \"\\nTotal samples generated:\", nb_samples*i)\n",
    "    for sample in samples:\n",
    "        indexG = list(sample).index(1)\n",
    "        timesG[int(indexG/k)] = timesG[int(indexG/k)]+1\n",
    "    return sorted(zip(timesG, B[1]), reverse=True)"
   ]
  },
  {
   "cell_type": "code",
   "execution_count": 9,
   "id": "f77b0ae1-3d07-4c6d-86b4-04b3a2fc12f0",
   "metadata": {},
   "outputs": [],
   "source": [
    "def input_DS(m, k):\n",
    "    '''input state for selection columns\n",
    "             m - number of subgraphs\n",
    "             k - size of each subgraph (size to identify)\n",
    "        returns |1,1,1,...,0,0,0> k ones and k*m-k zeros'''\n",
    "    return np.append(np.append(np.ones(k), np.zeros(k*m-k)), np.zeros(k*m)).astype(int)"
   ]
  },
  {
   "cell_type": "code",
   "execution_count": 10,
   "id": "44487498-fe29-434e-9ef1-7792d5ad810d",
   "metadata": {},
   "outputs": [],
   "source": [
    "def post_selectionDS(samples, k):\n",
    "    n_subg = int(len(samples[0])/2/k)\n",
    "    accepted = [sample for sample in samples for i in range(n_subg) if all(sample[k*i:k*i+k]) == 1]\n",
    "    return accepted"
   ]
  },
  {
   "cell_type": "code",
   "execution_count": 11,
   "id": "86943b2d-6d33-4279-a52a-a42b4061c665",
   "metadata": {},
   "outputs": [],
   "source": [
    "def create_graph(n,p):\n",
    "    graph = nx.erdos_renyi_graph(n=7,p=0.7)\n",
    "    graph.inflow=1\n",
    "    graph.outflow=0\n",
    "    return graph"
   ]
  },
  {
   "cell_type": "code",
   "execution_count": 12,
   "id": "41b0ce5d-4c3e-48b3-a54e-2e02896398a5",
   "metadata": {},
   "outputs": [],
   "source": [
    "def prune_graphlinks(netw):\n",
    "    while True :\n",
    "        l=[]\n",
    "        #print(netw.number_of_nodes())\n",
    "        for i in netw.nodes():\n",
    "            if netw.degree[i]<=1:\n",
    "                l.append(i)\n",
    "        assert (netw.inflow not in l) and (netw.outflow not in l) \n",
    "        if l:\n",
    "            #print(l)\n",
    "            netw.remove_nodes_from(l)\n",
    "        else:\n",
    "            break\n",
    "\n",
    "def get_flow(netw):\n",
    "    \"\"\"\n",
    "    Returns the matrix of fluxes M and flow potentials F.\n",
    "    \n",
    "    An alternative of the following code is to compute the Laplacian matrix\n",
    "    using the built-in L = laplacian(G) function. However, for small networks\n",
    "    (i.e. N0 < 1600), this code seems faster.\n",
    "    (need further investigations for assessing runtime differences).\n",
    "    \"\"\"\n",
    "    prune_graphlinks(netw)\n",
    "    \n",
    "    \n",
    "    # Preallocs:\n",
    "    #sized = netw.graph.Nodes.shape[0]\n",
    "    sized = netw.number_of_nodes()\n",
    "    \n",
    "    # For Matlab 'graph' adaptation, just re-create the adjacency matrix:\n",
    "    netw.adjm = nx.adjacency_matrix(netw).todense()\n",
    "    netw.adjm[netw.adjm > 1] = 1\n",
    "    \n",
    "    \n",
    "    # Use Python version:\n",
    "    P, S = prepare_linsys(netw, sized)\n",
    "    \n",
    "    # Remove both inflow and outflow entries from P:\n",
    "    #P = np.delete(np.delete(P, netw.inflow, 0), netw.inflow, 1)\n",
    "    P = np.delete(np.delete(P, netw.outflow, 0), netw.outflow, 1)\n",
    "    #S = np.delete(S, [netw.inflow, netw.outflow])\n",
    "    S = np.delete(S, [netw.outflow])\n",
    "    \n",
    "    # Solve the linear system:\n",
    "    FF = np.linalg.solve(P, S)\n",
    "    # Re-insert inflow and outflow nodes:\n",
    "    F = np.zeros(sized)\n",
    "    #F[:min([netw.inflow, netw.outflow])-1] = FF[:min([netw.inflow, netw.outflow])-1]\n",
    "    #F[min([netw.inflow, netw.outflow])+1:max([netw.inflow, netw.outflow])-1] = FF[min([netw.inflow, netw.outflow]):max([netw.inflow, netw.outflow])-2]\n",
    "    #F[max([netw.inflow, netw.outflow])+1:] = FF[max([netw.inflow, netw.outflow])-1:]\n",
    "    F[1:]=FF[:]\n",
    "    \n",
    "    \n",
    "    if min([netw.inflow, netw.outflow]) == netw.inflow:\n",
    "        F[min([netw.inflow, netw.outflow])] = 1\n",
    "        F[max([netw.inflow, netw.outflow])] = 0\n",
    "    else:\n",
    "        F[min([netw.inflow, netw.outflow])] = 0\n",
    "        F[max([netw.inflow, netw.outflow])] = 1\n",
    "    \n",
    "    F = F.T\n",
    "    \n",
    "    # Then compute the fluxes matrix M, according to F (flow potentials):\n",
    "    M = compute_q(netw, sized, F)\n",
    "    \n",
    "    return F, M\n",
    "\n",
    "def compute_q(netw, sized, F):\n",
    "    \"\"\"\n",
    "    Compute the fluxes matrix M, according to F (flow potentials).\n",
    "    \"\"\"\n",
    "    M = np.zeros((sized, sized))\n",
    "    \n",
    "    for i in range(netw.adjm.shape[0]):\n",
    "        #idx = netw.adjm[i] == 1\n",
    "        idx = [j for j in range(sized) if netw.adjm[i,j] == 1]\n",
    "        #D = netw.dis_eucl[i, idx]\n",
    "        D=1\n",
    "        for j in idx:\n",
    "             M[i, j] = -(F[i] - F[j]) / D\n",
    "\n",
    "    return M"
   ]
  },
  {
   "cell_type": "code",
   "execution_count": 13,
   "id": "666474a4-8888-440c-8b92-3be733b13139",
   "metadata": {},
   "outputs": [],
   "source": [
    "def gen_graph(n):\n",
    "    G=nx.erdos_renyi_graph(n,0.5)\n",
    "    G.inflow=1\n",
    "    G.outflow=0\n",
    "    \n",
    "    #G=nx.scale_free_graph(n, alpha=0.41, beta=0.54, gamma=0.05, delta_in=0.2, delta_out=0, seed=None, initial_graph=None)\n",
    "    #G2 = G.to_undirected()\n",
    "    #G2.remove_edges_from(nx.selfloop_edges(G2))\n",
    "    \n",
    "    return G\n",
    "    #return G2\n",
    "\n",
    "def gen_graph_scalefree(n):\n",
    "    G=nx.scale_free_graph(n, alpha=0.41, beta=0.54, gamma=0.05, delta_in=0.2, delta_out=0, seed=None, initial_graph=None)\n",
    "    G2 = G.to_undirected()\n",
    "    G2.remove_edges_from(nx.selfloop_edges(G2))\n",
    "    \n",
    "    G2.inflow=1\n",
    "    G2.outflow=0\n",
    "    return G2\n",
    "\n",
    "def get_Q(netw):\n",
    "    [F,M]=get_flow(netw)\n",
    "    (idxi,idxj)=np.where(M==np.min(np.abs(M[np.nonzero(M)])))\n",
    "    return np.abs(M[1].sum()) , (idxi[0],idxj[0])\n",
    "\n",
    "def prepare_linsys(netw, sized):\n",
    "    \"\"\"\n",
    "    Prepare the linear system for solving.\n",
    "    \"\"\"\n",
    "    P = np.zeros((sized, sized))\n",
    "    S = np.zeros(sized)\n",
    "    nodes = list(netw.nodes())\n",
    "    for i in range(netw.adjm.shape[0]):\n",
    "        idx = [j for j in range(sized) if netw.adjm[i,j] == 1]\n",
    "        \n",
    "        for j in idx:\n",
    "            P[i,j] = -1\n",
    "        \n",
    "        P[i,i]=len(idx)\n",
    "     \n",
    "    S[nodes.index(netw.inflow)]=1\n",
    "\n",
    "    return P, S"
   ]
  },
  {
   "cell_type": "code",
   "execution_count": 14,
   "id": "eda5e52c-6b32-4c87-8ee0-deedc75df7b9",
   "metadata": {},
   "outputs": [],
   "source": [
    "def delete_random_edge(graph):\n",
    "    edges = list(graph.edges)\n",
    "\n",
    "    # random edge choice\n",
    "    chosen_edge = random.choice(edges)\n",
    "    graph.remove_edge(chosen_edge[0], chosen_edge[1])\n",
    "\n",
    "    return graph\n",
    "\n",
    "def delete_weakest_link(graph,chosen_edge):\n",
    "    nodes = list(graph.nodes())\n",
    "    graph.remove_edge(nodes[chosen_edge[0]], nodes[chosen_edge[1]])\n",
    "    return graph\n",
    "\n",
    "def delete_random_densest_edge(graph):\n",
    "    nodes=dsd.exact_densest(graph)[0]\n",
    "    edges = list(graph.edges)\n",
    "    #print(edges)\n",
    "    selection=[]\n",
    "    for l in edges:\n",
    "        if l[0] in nodes and l[1] in nodes:\n",
    "            selection.append((l[0],l[1]))\n",
    "    chosen_edge = random.choice(selection)\n",
    "    graph.remove_edge(chosen_edge[0], chosen_edge[1])\n",
    "    return graph"
   ]
  },
  {
   "cell_type": "code",
   "execution_count": 15,
   "id": "ae9c4099-41f1-43a0-ac8e-ab991e3b31e0",
   "metadata": {},
   "outputs": [],
   "source": [
    "def delete_weakest_link(graph,chosen_edge):\n",
    "    nodes = list(graph.nodes())\n",
    "    graph.remove_edge(nodes[chosen_edge[0]], nodes[chosen_edge[1]])\n",
    "    return graph"
   ]
  },
  {
   "cell_type": "markdown",
   "id": "581c9591-a15e-4eda-8e2e-8de60d6220e9",
   "metadata": {},
   "source": [
    "#### Visual"
   ]
  },
  {
   "cell_type": "code",
   "execution_count": 16,
   "id": "d3998cf6-e34e-48fa-b7ff-9d81a505d386",
   "metadata": {},
   "outputs": [
    {
     "data": {
      "image/png": "[encoded data removed]",
      "text/plain": [
       "<Figure size 640x480 with 1 Axes>"
      ]
     },
     "metadata": {},
     "output_type": "display_data"
    }
   ],
   "source": [
    "g = gen_graph(n=5)\n",
    "nx.draw_networkx(g)"
   ]
  },
  {
   "cell_type": "code",
   "execution_count": 17,
   "id": "076d913f-e51d-4ea3-bb2b-17cef4dee8aa",
   "metadata": {},
   "outputs": [],
   "source": [
    "num_iterations = 5"
   ]
  },
  {
   "cell_type": "code",
   "execution_count": 19,
   "id": "79c675f2-4e25-4b92-b26d-8594573a513a",
   "metadata": {},
   "outputs": [
    {
     "name": "stderr",
     "output_type": "stream",
     "text": [
      "  0%|                                                     | 0/5 [00:00<?, ?it/s]"
     ]
    },
    {
     "name": "stdout",
     "output_type": "stream",
     "text": [
      "[2, 3, 4]\n"
     ]
    },
    {
     "name": "stderr",
     "output_type": "stream",
     "text": [
      "IOStream.flush timed out\n",
      "IOStream.flush timed out\n",
      "IOStream.flush timed out\n",
      "IOStream.flush timed out\n",
      "IOStream.flush timed out\n",
      "  0%|                                                     | 0/5 [10:42<?, ?it/s]\n"
     ]
    },
    {
     "ename": "KeyboardInterrupt",
     "evalue": "",
     "output_type": "error",
     "traceback": [
      "\u001b[0;31m---------------------------------------------------------------------------\u001b[0m",
      "\u001b[0;31mKeyboardInterrupt\u001b[0m                         Traceback (most recent call last)",
      "Cell \u001b[0;32mIn[19], line 5\u001b[0m\n\u001b[1;32m      3\u001b[0m seed \u001b[38;5;241m=\u001b[39m \u001b[38;5;28;01mNone\u001b[39;00m\n\u001b[1;32m      4\u001b[0m \u001b[38;5;28;01mfor\u001b[39;00m i \u001b[38;5;129;01min\u001b[39;00m tqdm(\u001b[38;5;28mrange\u001b[39m(num_iterations)):\n\u001b[0;32m----> 5\u001b[0m     res \u001b[38;5;241m=\u001b[39m \u001b[43mdensest_subgraphs\u001b[49m\u001b[43m(\u001b[49m\u001b[43mg\u001b[49m\u001b[43m,\u001b[49m\u001b[43m \u001b[49m\u001b[43mseed\u001b[49m\u001b[38;5;241;43m=\u001b[39;49m\u001b[43m[\u001b[49m\u001b[38;5;241;43m0\u001b[39;49m\u001b[43m,\u001b[49m\u001b[38;5;241;43m1\u001b[39;49m\u001b[43m]\u001b[49m\u001b[43m,\u001b[49m\u001b[43m \u001b[49m\u001b[43mk\u001b[49m\u001b[38;5;241;43m=\u001b[39;49m\u001b[43mk\u001b[49m\u001b[43m,\u001b[49m\u001b[43m \u001b[49m\u001b[43mnb_samples\u001b[49m\u001b[38;5;241;43m=\u001b[39;49m\u001b[38;5;241;43m100\u001b[39;49m\u001b[43m,\u001b[49m\u001b[43m \u001b[49m\u001b[43mNs_min\u001b[49m\u001b[38;5;241;43m=\u001b[39;49m\u001b[38;5;241;43m100\u001b[39;49m\u001b[43m)\u001b[49m\n\u001b[1;32m      6\u001b[0m     seed \u001b[38;5;241m=\u001b[39m res[\u001b[38;5;241m0\u001b[39m][\u001b[38;5;241m-\u001b[39m\u001b[38;5;241m1\u001b[39m]\n\u001b[1;32m      7\u001b[0m     delete_weakest_link(g,seed)\n",
      "Cell \u001b[0;32mIn[8], line 22\u001b[0m, in \u001b[0;36mdensest_subgraphs\u001b[0;34m(G, seed, k, nb_samples, Ns_min)\u001b[0m\n\u001b[1;32m     20\u001b[0m \u001b[38;5;28;01mwhile\u001b[39;00m \u001b[38;5;28mlen\u001b[39m(samples) \u001b[38;5;241m<\u001b[39m Ns_min:\n\u001b[1;32m     21\u001b[0m     samples_device \u001b[38;5;241m=\u001b[39m sampler\u001b[38;5;241m.\u001b[39msamples(nb_samples)[\u001b[38;5;124m'\u001b[39m\u001b[38;5;124mresults\u001b[39m\u001b[38;5;124m'\u001b[39m]\n\u001b[0;32m---> 22\u001b[0m     new_generation_samples \u001b[38;5;241m=\u001b[39m \u001b[43mpost_selectionDS\u001b[49m\u001b[43m(\u001b[49m\u001b[43msamples_device\u001b[49m\u001b[43m,\u001b[49m\u001b[43m \u001b[49m\u001b[43mk\u001b[49m\u001b[43m)\u001b[49m\n\u001b[1;32m     23\u001b[0m     samples \u001b[38;5;241m+\u001b[39m\u001b[38;5;241m=\u001b[39m new_generation_samples\n\u001b[1;32m     24\u001b[0m     i \u001b[38;5;241m=\u001b[39m i\u001b[38;5;241m+\u001b[39m\u001b[38;5;241m1\u001b[39m\n",
      "Cell \u001b[0;32mIn[10], line 3\u001b[0m, in \u001b[0;36mpost_selectionDS\u001b[0;34m(samples, k)\u001b[0m\n\u001b[1;32m      1\u001b[0m \u001b[38;5;28;01mdef\u001b[39;00m \u001b[38;5;21mpost_selectionDS\u001b[39m(samples, k):\n\u001b[1;32m      2\u001b[0m     n_subg \u001b[38;5;241m=\u001b[39m \u001b[38;5;28mint\u001b[39m(\u001b[38;5;28mlen\u001b[39m(samples[\u001b[38;5;241m0\u001b[39m])\u001b[38;5;241m/\u001b[39m\u001b[38;5;241m2\u001b[39m\u001b[38;5;241m/\u001b[39mk)\n\u001b[0;32m----> 3\u001b[0m     accepted \u001b[38;5;241m=\u001b[39m [sample \u001b[38;5;28;01mfor\u001b[39;00m sample \u001b[38;5;129;01min\u001b[39;00m samples \u001b[38;5;28;01mfor\u001b[39;00m i \u001b[38;5;129;01min\u001b[39;00m \u001b[38;5;28mrange\u001b[39m(n_subg) \u001b[38;5;28;01mif\u001b[39;00m \u001b[38;5;28mall\u001b[39m(sample[k\u001b[38;5;241m*\u001b[39mi:k\u001b[38;5;241m*\u001b[39mi\u001b[38;5;241m+\u001b[39mk]) \u001b[38;5;241m==\u001b[39m \u001b[38;5;241m1\u001b[39m]\n\u001b[1;32m      4\u001b[0m     \u001b[38;5;28;01mreturn\u001b[39;00m accepted\n",
      "Cell \u001b[0;32mIn[10], line 3\u001b[0m, in \u001b[0;36m<listcomp>\u001b[0;34m(.0)\u001b[0m\n\u001b[1;32m      1\u001b[0m \u001b[38;5;28;01mdef\u001b[39;00m \u001b[38;5;21mpost_selectionDS\u001b[39m(samples, k):\n\u001b[1;32m      2\u001b[0m     n_subg \u001b[38;5;241m=\u001b[39m \u001b[38;5;28mint\u001b[39m(\u001b[38;5;28mlen\u001b[39m(samples[\u001b[38;5;241m0\u001b[39m])\u001b[38;5;241m/\u001b[39m\u001b[38;5;241m2\u001b[39m\u001b[38;5;241m/\u001b[39mk)\n\u001b[0;32m----> 3\u001b[0m     accepted \u001b[38;5;241m=\u001b[39m [sample \u001b[38;5;28;01mfor\u001b[39;00m sample \u001b[38;5;129;01min\u001b[39;00m samples \u001b[38;5;28;01mfor\u001b[39;00m i \u001b[38;5;129;01min\u001b[39;00m \u001b[38;5;28mrange\u001b[39m(n_subg) \u001b[38;5;28;01mif\u001b[39;00m \u001b[38;5;28;43mall\u001b[39;49m\u001b[43m(\u001b[49m\u001b[43msample\u001b[49m\u001b[43m[\u001b[49m\u001b[43mk\u001b[49m\u001b[38;5;241;43m*\u001b[39;49m\u001b[43mi\u001b[49m\u001b[43m:\u001b[49m\u001b[43mk\u001b[49m\u001b[38;5;241;43m*\u001b[39;49m\u001b[43mi\u001b[49m\u001b[38;5;241;43m+\u001b[39;49m\u001b[43mk\u001b[49m\u001b[43m]\u001b[49m\u001b[43m)\u001b[49m \u001b[38;5;241m==\u001b[39m \u001b[38;5;241m1\u001b[39m]\n\u001b[1;32m      4\u001b[0m     \u001b[38;5;28;01mreturn\u001b[39;00m accepted\n",
      "\u001b[0;31mKeyboardInterrupt\u001b[0m: "
     ]
    }
   ],
   "source": [
    "total_flux = []\n",
    "k = 3\n",
    "seed = None\n",
    "for i in tqdm(range(num_iterations)):\n",
    "    res = densest_subgraphs(g, seed=[0,1], k=k, nb_samples=100, Ns_min=100)\n",
    "    seed = res[0][-1]\n",
    "    delete_weakest_link(g,seed)\n",
    "    total_flux.append(get_Q(g)[0])"
   ]
  },
  {
   "cell_type": "code",
   "execution_count": null,
   "id": "b7c12659-7f0b-4e65-9ab3-b4d06ed901e1",
   "metadata": {},
   "outputs": [],
   "source": [
    "plt.plot(total_flux)"
   ]
  },
  {
   "cell_type": "markdown",
   "id": "589d9dd3-7579-4a0f-a147-e700f08ff89c",
   "metadata": {},
   "source": [
    "#### 3) Calculating potential and flux"
   ]
  },
  {
   "cell_type": "code",
   "execution_count": null,
   "id": "873c035e-2fe8-4502-8561-5606533cefbb",
   "metadata": {},
   "outputs": [],
   "source": []
  }
 ],
 "metadata": {
  "kernelspec": {
   "display_name": "hackathon",
   "language": "python",
   "name": "hackathon"
  },
  "language_info": {
   "codemirror_mode": {
    "name": "ipython",
    "version": 3
   },
   "file_extension": ".py",
   "mimetype": "text/x-python",
   "name": "python",
   "nbconvert_exporter": "python",
   "pygments_lexer": "ipython3",
   "version": "3.10.14"
  }
 },
 "nbformat": 4,
 "nbformat_minor": 5
}
