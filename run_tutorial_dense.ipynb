{
 "cells": [
  {
   "cell_type": "markdown",
   "metadata": {},
   "source": [
    "\n",
    "\n",
    "Dense Subgraphs\n",
    "===============\n",
    "\n",
    "*Technical details are available in the API documentation:* :doc:`code/api/strawberryfields.apps.subgraph`\n",
    "\n",
    "Graphs can be used to model a wide variety of concepts: social networks, financial markets,\n",
    "biological networks, and many others. A common problem of interest is to find subgraphs that\n",
    "contain a large number of connections between their nodes. These subgraphs may correspond to\n",
    "communities in social networks, correlated assets in a market, or mutually influential proteins\n",
    "in a biological network.\n",
    "\n",
    "Mathematically, this task is known as the `dense subgraph problem\n",
    "<https://en.wikipedia.org/wiki/Dense_subgraph>`__. The density of a $k$-node subgraph is equal\n",
    "to the number of its edges divided by the maximum possible number of edges.\n",
    "Identifying the densest graph of a given size, known as the densest-$k$ subgraph problem,\n",
    "is `NP-Hard <https://en.wikipedia.org/wiki/NP-hardness>`__.\n",
    "\n",
    "\n",
    "As shown in [[#arrazola2018using]_], a defining feature of GBS is that when we encode a graph\n",
    "into a GBS device, it samples dense subgraphs with high probability. This property can be\n",
    "used to find dense subgraphs by sampling from a GBS device and postprocessing the outputs.\n",
    "Let's take a look!\n",
    "\n",
    "Finding dense subgraphs\n",
    "-----------------------\n",
    "The first step is to import all required modules. We'll need the :mod:`~strawberryfields.apps.data`\n",
    "module to load pre-generated samples, the :mod:`~strawberryfields.apps.sample` module to postselect samples, the\n",
    ":mod:`~strawberryfields.apps.subgraph` module to search for dense subgraphs, and the :mod:`~strawberryfields.apps.plot` module to\n",
    "visualize the graphs. We'll also use Plotly which is required for the :mod:`~strawberryfields.apps.plot` module and\n",
    "NetworkX for graph operations.\n"
   ]
  },
  {
   "cell_type": "code",
   "execution_count": 3,
   "metadata": {},
   "outputs": [],
   "source": [
    "from IPython.display import display"
   ]
  },
  {
   "cell_type": "code",
   "execution_count": 4,
   "metadata": {
    "collapsed": false,
    "jupyter": {
     "outputs_hidden": false
    }
   },
   "outputs": [],
   "source": [
    "from strawberryfields.apps import data, sample, subgraph, plot\n",
    "import plotly\n",
    "import networkx as nx"
   ]
  },
  {
   "cell_type": "code",
   "execution_count": 5,
   "metadata": {
    "scrolled": true
   },
   "outputs": [
    {
     "ename": "ValueError",
     "evalue": "Mime type rendering requires nbformat>=4.2.0 but it is not installed",
     "output_type": "error",
     "traceback": [
      "\u001b[0;31m---------------------------------------------------------------------------\u001b[0m",
      "\u001b[0;31mValueError\u001b[0m                                Traceback (most recent call last)",
      "Cell \u001b[0;32mIn[5], line 3\u001b[0m\n\u001b[1;32m      1\u001b[0m graph \u001b[38;5;241m=\u001b[39m nx\u001b[38;5;241m.\u001b[39mcomplete_graph(\u001b[38;5;241m10\u001b[39m)\n\u001b[1;32m      2\u001b[0m fig \u001b[38;5;241m=\u001b[39m plot\u001b[38;5;241m.\u001b[39mgraph(graph, [\u001b[38;5;241m0\u001b[39m, \u001b[38;5;241m1\u001b[39m, \u001b[38;5;241m2\u001b[39m, \u001b[38;5;241m3\u001b[39m])\n\u001b[0;32m----> 3\u001b[0m \u001b[43mfig\u001b[49m\u001b[38;5;241;43m.\u001b[39;49m\u001b[43mshow\u001b[49m\u001b[43m(\u001b[49m\u001b[43m)\u001b[49m\n",
      "File \u001b[0;32m~/miniconda3/envs/quantumaudio/lib/python3.10/site-packages/plotly/basedatatypes.py:3410\u001b[0m, in \u001b[0;36mBaseFigure.show\u001b[0;34m(self, *args, **kwargs)\u001b[0m\n\u001b[1;32m   3377\u001b[0m \u001b[38;5;250m\u001b[39m\u001b[38;5;124;03m\"\"\"\u001b[39;00m\n\u001b[1;32m   3378\u001b[0m \u001b[38;5;124;03mShow a figure using either the default renderer(s) or the renderer(s)\u001b[39;00m\n\u001b[1;32m   3379\u001b[0m \u001b[38;5;124;03mspecified by the renderer argument\u001b[39;00m\n\u001b[0;32m   (...)\u001b[0m\n\u001b[1;32m   3406\u001b[0m \u001b[38;5;124;03mNone\u001b[39;00m\n\u001b[1;32m   3407\u001b[0m \u001b[38;5;124;03m\"\"\"\u001b[39;00m\n\u001b[1;32m   3408\u001b[0m \u001b[38;5;28;01mimport\u001b[39;00m \u001b[38;5;21;01mplotly\u001b[39;00m\u001b[38;5;21;01m.\u001b[39;00m\u001b[38;5;21;01mio\u001b[39;00m \u001b[38;5;28;01mas\u001b[39;00m \u001b[38;5;21;01mpio\u001b[39;00m\n\u001b[0;32m-> 3410\u001b[0m \u001b[38;5;28;01mreturn\u001b[39;00m \u001b[43mpio\u001b[49m\u001b[38;5;241;43m.\u001b[39;49m\u001b[43mshow\u001b[49m\u001b[43m(\u001b[49m\u001b[38;5;28;43mself\u001b[39;49m\u001b[43m,\u001b[49m\u001b[43m \u001b[49m\u001b[38;5;241;43m*\u001b[39;49m\u001b[43margs\u001b[49m\u001b[43m,\u001b[49m\u001b[43m \u001b[49m\u001b[38;5;241;43m*\u001b[39;49m\u001b[38;5;241;43m*\u001b[39;49m\u001b[43mkwargs\u001b[49m\u001b[43m)\u001b[49m\n",
      "File \u001b[0;32m~/miniconda3/envs/quantumaudio/lib/python3.10/site-packages/plotly/io/_renderers.py:394\u001b[0m, in \u001b[0;36mshow\u001b[0;34m(fig, renderer, validate, **kwargs)\u001b[0m\n\u001b[1;32m    389\u001b[0m         \u001b[38;5;28;01mraise\u001b[39;00m \u001b[38;5;167;01mValueError\u001b[39;00m(\n\u001b[1;32m    390\u001b[0m             \u001b[38;5;124m\"\u001b[39m\u001b[38;5;124mMime type rendering requires ipython but it is not installed\u001b[39m\u001b[38;5;124m\"\u001b[39m\n\u001b[1;32m    391\u001b[0m         )\n\u001b[1;32m    393\u001b[0m     \u001b[38;5;28;01mif\u001b[39;00m \u001b[38;5;129;01mnot\u001b[39;00m nbformat \u001b[38;5;129;01mor\u001b[39;00m Version(nbformat\u001b[38;5;241m.\u001b[39m__version__) \u001b[38;5;241m<\u001b[39m Version(\u001b[38;5;124m\"\u001b[39m\u001b[38;5;124m4.2.0\u001b[39m\u001b[38;5;124m\"\u001b[39m):\n\u001b[0;32m--> 394\u001b[0m         \u001b[38;5;28;01mraise\u001b[39;00m \u001b[38;5;167;01mValueError\u001b[39;00m(\n\u001b[1;32m    395\u001b[0m             \u001b[38;5;124m\"\u001b[39m\u001b[38;5;124mMime type rendering requires nbformat>=4.2.0 but it is not installed\u001b[39m\u001b[38;5;124m\"\u001b[39m\n\u001b[1;32m    396\u001b[0m         )\n\u001b[1;32m    398\u001b[0m     ipython_display\u001b[38;5;241m.\u001b[39mdisplay(bundle, raw\u001b[38;5;241m=\u001b[39m\u001b[38;5;28;01mTrue\u001b[39;00m)\n\u001b[1;32m    400\u001b[0m \u001b[38;5;66;03m# external renderers\u001b[39;00m\n",
      "\u001b[0;31mValueError\u001b[0m: Mime type rendering requires nbformat>=4.2.0 but it is not installed"
     ]
    }
   ],
   "source": [
    "graph = nx.complete_graph(10)\n",
    "fig = plot.graph(graph, [0, 1, 2, 3])\n",
    "fig.show()"
   ]
  },
  {
   "cell_type": "code",
   "execution_count": null,
   "metadata": {
    "collapsed": false,
    "jupyter": {
     "outputs_hidden": false
    }
   },
   "outputs": [],
   "source": [
    "planted = data.Planted()\n",
    "postselected = sample.postselect(planted, 16, 30)\n",
    "pl_graph = nx.to_networkx_graph(planted.adj)\n",
    "samples = sample.to_subgraphs(postselected, pl_graph)\n",
    "print(len(samples))"
   ]
  },
  {
   "cell_type": "markdown",
   "metadata": {},
   "source": [
    "Not bad! We have more than 2000 samples to play with 😎. The planted subgraph is actually easy to\n",
    "identify; it even appears clearly from the force-directed Kamada-Kawai algorithm that is used to\n",
    "plot graphs in Strawberry Fields:\n",
    "\n"
   ]
  },
  {
   "cell_type": "code",
   "execution_count": null,
   "metadata": {
    "collapsed": false,
    "jupyter": {
     "outputs_hidden": false
    },
    "scrolled": true
   },
   "outputs": [],
   "source": [
    "sub = list(range(20, 30))\n",
    "plot.graph(pl_graph, sub)"
   ]
  },
  {
   "cell_type": "markdown",
   "metadata": {},
   "source": [
    "A more interesting challenge is to find dense subgraphs of different sizes; it is often useful to\n",
    "identify many high-density subgraphs, not just the densest ones. This is the purpose of the\n",
    ":func:`~strawberryfields.apps.subgraph.search` function in the\n",
    ":mod:`~strawberryfields.apps.subgraph` module: to identify collections of dense subgraphs for a\n",
    "range of sizes. The output of this function is a dictionary whose keys correspond to subgraph\n",
    "sizes within the specified range. The values in the dictionary are the top subgraphs of that size\n",
    "and their corresponding density.\n",
    "\n"
   ]
  },
  {
   "cell_type": "code",
   "execution_count": null,
   "metadata": {
    "collapsed": false,
    "jupyter": {
     "outputs_hidden": false
    }
   },
   "outputs": [],
   "source": [
    "dense = subgraph.search(samples, pl_graph, 8, 16, max_count=3)  # we look at top 3 densest subgraphs\n",
    "for k in range(8, 17):\n",
    "    print(dense[k][0])  # print only the densest subgraph of each size"
   ]
  },
  {
   "cell_type": "markdown",
   "metadata": {},
   "source": [
    "From the results of the search we learn that, depending on their size, the densest subgraphs\n",
    "belong to different regions of the graph: dense subgraphs of less than ten nodes are contained\n",
    "within the planted subgraph, whereas larger dense subgraphs appear outside of the planted\n",
    "subgraph. Smaller dense subgraphs can be cliques, characterized by having\n",
    "maximum density of 1, while larger subgraphs are less dense. Let's see what the smallest and\n",
    "largest subgraphs look like.\n",
    "\n",
    "Smallest subgraph:\n",
    "\n"
   ]
  },
  {
   "cell_type": "code",
   "execution_count": null,
   "metadata": {
    "collapsed": false,
    "jupyter": {
     "outputs_hidden": false
    }
   },
   "outputs": [],
   "source": [
    "plot.graph(pl_graph, dense[8][0][1])"
   ]
  },
  {
   "cell_type": "markdown",
   "metadata": {},
   "source": [
    "Largest subgraph:\n",
    "\n"
   ]
  },
  {
   "cell_type": "code",
   "execution_count": null,
   "metadata": {
    "collapsed": false,
    "jupyter": {
     "outputs_hidden": false
    }
   },
   "outputs": [],
   "source": [
    "plot.graph(pl_graph, dense[12][0][1])"
   ]
  },
  {
   "cell_type": "markdown",
   "metadata": {},
   "source": [
    "In principle there are different methods to postprocess GBS outputs to identify dense\n",
    "subgraphs. For example, techniques for finding maximum cliques, included in the\n",
    ":mod:`~strawberryfields.apps.clique` module could help provide initial subgraphs that can be resized to find\n",
    "larger dense subgraphs. Such methods are hybrid algorithms combining the ability of GBS to\n",
    "sample dense subgraphs with clever classical techniques. Can you think of your own hybrid\n",
    "algorithm? 🤔\n",
    "\n",
    "References\n",
    "----------\n",
    "\n",
    ".. [#arrazola2018using]\n",
    "\n",
    "    Juan Miguel Arrazola and Thomas R Bromley. Using gaussian boson sampling to find dense subgraphs.\n",
    "    Physical Review Letters, 121(3):030503, 2018.\n",
    "\n"
   ]
  }
 ],
 "metadata": {
  "kernelspec": {
   "display_name": "quantumaudio",
   "language": "python",
   "name": "quantumaudio"
  },
  "language_info": {
   "codemirror_mode": {
    "name": "ipython",
    "version": 3
   },
   "file_extension": ".py",
   "mimetype": "text/x-python",
   "name": "python",
   "nbconvert_exporter": "python",
   "pygments_lexer": "ipython3",
   "version": "3.10.14"
  }
 },
 "nbformat": 4,
 "nbformat_minor": 4
}
