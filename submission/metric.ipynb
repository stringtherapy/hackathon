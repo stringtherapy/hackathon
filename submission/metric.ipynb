{
 "cells": [
  {
   "cell_type": "code",
   "execution_count": null,
   "metadata": {},
   "outputs": [],
   "source": [
    "import numpy as np"
   ]
  },
  {
   "cell_type": "code",
   "execution_count": null,
   "metadata": {},
   "outputs": [],
   "source": [
    "# same as input from solution.ipynb\n",
    "original_input = np.array([\n",
    "    [0, 1, 1, 0, 1, 0, 0, 1, 0],\n",
    "    [1, 0, 0, 0, 0, 0, 0, 1, 1],\n",
    "    [1, 0, 0, 1, 0, 0, 1, 0, 1],\n",
    "    [0, 0, 1, 0, 1, 0, 0, 0, 1],\n",
    "    [1, 0, 0, 1, 0, 1, 0, 0, 0],\n",
    "    [0, 0, 0, 0, 1, 0, 1, 0, 0],\n",
    "    [0, 0, 0, 0, 0, 1, 0, 1, 0],\n",
    "    [1, 1, 0, 0, 0, 0, 1, 0, 1],\n",
    "    [0, 1, 1, 1, 0, 0, 0, 1, 0],\n",
    "])\n",
    "# same as output from solution.ipynb\n",
    "input = np.array([\n",
    "    [0, 1, 1, 0, 1, 0, 0, 1, 0],\n",
    "    [1, 0, 0, 0, 0, 0, 0, 1, 1],\n",
    "    [1, 0, 0, 1, 0, 0, 1, 0, 1],\n",
    "    [0, 0, 1, 0, 1, 0, 0, 0, 1],\n",
    "    [1, 0, 0, 1, 0, 1, 0, 0, 0],\n",
    "    [0, 0, 0, 0, 1, 0, 1, 0, 0],\n",
    "    [0, 0, 0, 0, 0, 1, 0, 1, 0],\n",
    "    [1, 1, 0, 0, 0, 0, 1, 0, 1],\n",
    "    [0, 1, 1, 1, 0, 0, 0, 1, 0],\n",
    "])"
   ]
  },
  {
   "cell_type": "markdown",
   "metadata": {},
   "source": [
    "Define a metric for evaluating the evolution of the network"
   ]
  },
  {
   "cell_type": "code",
   "execution_count": null,
   "metadata": {},
   "outputs": [],
   "source": [
    "output = 0.0"
   ]
  }
 ],
 "metadata": {
  "kernelspec": {
   "display_name": "Python 3 (ipykernel)",
   "language": "python",
   "name": "python3"
  },
  "language_info": {
   "codemirror_mode": {
    "name": "ipython",
    "version": 3
   },
   "file_extension": ".py",
   "mimetype": "text/x-python",
   "name": "python",
   "nbconvert_exporter": "python",
   "pygments_lexer": "ipython3",
   "version": "3.8.3"
  }
 },
 "nbformat": 4,
 "nbformat_minor": 2
}
