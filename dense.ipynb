{
 "cells": [
  {
   "cell_type": "code",
   "execution_count": 1,
   "id": "79e4fbde",
   "metadata": {},
   "outputs": [],
   "source": [
    "import perceval as pcvl\n",
    "import perceval.components as comp\n",
    "import numpy as np\n",
    "import networkx as nx\n",
    "from scipy.linalg import sqrtm\n",
    "from perceval.algorithm import Sampler\n",
    "from scipy.special import binom\n",
    "import itertools\n",
    "import matplotlib.pyplot as plt\n",
    "from tqdm import tqdm\n",
    "import math"
   ]
  },
  {
   "cell_type": "code",
   "execution_count": 2,
   "id": "8ced0068-6181-4cd7-b1d9-7487a33b52b0",
   "metadata": {},
   "outputs": [],
   "source": [
    "def create_graph(n,p=0.5):\n",
    "    graph = nx.erdos_renyi_graph(n=n,p=p)\n",
    "    graph.inflow=1\n",
    "    graph.outflow=0\n",
    "    return graph\n",
    "\n",
    "def gen_graph_scalefree(n):\n",
    "    G=nx.scale_free_graph(n, alpha=0.41, beta=0.54, gamma=0.05, delta_in=0.2, delta_out=0, seed=None, initial_graph=None)\n",
    "    G2 = G.to_undirected()\n",
    "    G2.remove_edges_from(nx.selfloop_edges(G2))\n",
    "    G2.inflow=1\n",
    "    G2.outflow=0\n",
    "    return G2"
   ]
  },
  {
   "cell_type": "code",
   "execution_count": 3,
   "id": "d3e53226",
   "metadata": {},
   "outputs": [],
   "source": [
    "def order_of_magnitude(number):\n",
    "    if number == 0:\n",
    "        return -20\n",
    "    try:\n",
    "        return math.floor(math.log(abs(number), 10))\n",
    "    except:\n",
    "        return -20\n",
    "\n",
    "def to_unitary(A):\n",
    "    ''' Input: graph A either as:\n",
    "                                 an adjacency matrix of size mxm\n",
    "                                 a networkX graph with m nodes\n",
    "        Output: unitary with size 2mx2m\n",
    "    '''\n",
    "    if isinstance(A, nx.Graph):\n",
    "        A = nx.to_numpy_array(A)\n",
    "    P, D, V = np.linalg.svd(A)\n",
    "    m = len(A)\n",
    "    lsv = np.max(D)\n",
    "    An = A/lsv\n",
    "    P = An\n",
    "    if all([order_of_magnitude(value.real)<-9 for row in np.identity(m)-np.dot(An, An.conj().T) for value in row]):\n",
    "        print(\"forcing Q = R = zeros\")\n",
    "        Q = R = np.zeros((m,m))\n",
    "    else:\n",
    "        Q = sqrtm(np.identity(m)-np.dot(An, An.conj().T))\n",
    "        R = sqrtm(np.identity(m)-np.dot(An.conj().T, An))\n",
    "    S = -An.conj().T\n",
    "    Ubmat = np.bmat([[P, Q], [R, S]])\n",
    "    Ubmat = Ubmat.real\n",
    "    return (np.copy(Ubmat), lsv)"
   ]
  },
  {
   "cell_type": "code",
   "execution_count": 4,
   "id": "f6d4c63f",
   "metadata": {},
   "outputs": [],
   "source": [
    "def input_DS(m, k):\n",
    "    '''input state for selection columns\n",
    "             m - number of subgraphs\n",
    "             k - size of each subgraph (size to identify)\n",
    "        returns |1,1,1,...,0,0,0> k ones and k*m-k zeros'''\n",
    "    return np.append(np.append(np.ones(k), np.zeros(k*m-k)), np.zeros(k*m)).astype(int)"
   ]
  },
  {
   "cell_type": "code",
   "execution_count": 5,
   "id": "84b02f6a-b041-4698-8469-5b7f923365c9",
   "metadata": {},
   "outputs": [],
   "source": [
    "def post_selectionDS(samples, k):\n",
    "    n_subg = int(len(samples[0])/2/k)\n",
    "    accepted = [sample for sample in samples for i in range(n_subg) if all(sample[k*i:k*i+k]) == 1]\n",
    "    return accepted"
   ]
  },
  {
   "cell_type": "code",
   "execution_count": 6,
   "id": "f7db1bde",
   "metadata": {},
   "outputs": [],
   "source": [
    "# Functions to generate the subgraphs to test\n",
    "def test_subgraphs(G, subG, size):\n",
    "    ''' inputs: \n",
    "                G - networkX graph \n",
    "                subG - list of nodes for selected subgraph\n",
    "                size - integer for size of subgraph to find\n",
    "        return:\n",
    "                all remaining possible subgraphs of size \"size\"-len(subG)'''\n",
    "\n",
    "    G_n = len(G.nodes)\n",
    "    subG_n = len(subG)\n",
    "    num_subgraphs = binom(G_n-subG_n, size-subG_n)\n",
    "    print(\"Number of possible subgraphs:\", num_subgraphs)\n",
    "\n",
    "    nodes = list(G.nodes)\n",
    "    test_nodes = [node for node in nodes if node not in subG]\n",
    "    test_list = list(itertools.combinations(test_nodes, size-subG_n))\n",
    "\n",
    "    poss_subg = [subG+list(i) for i in test_list]\n",
    "    return poss_subg\n"
   ]
  },
  {
   "cell_type": "code",
   "execution_count": 7,
   "id": "bc17e5dc",
   "metadata": {},
   "outputs": [],
   "source": [
    "# Functions to generate the subgraphs to test\n",
    "def construct_B(G, subG, k):\n",
    "    ''' inputs: \n",
    "                G - networkX graph \n",
    "                subG - list of nodes for selected subgraph\n",
    "                k - integer for size of subgraph to find\n",
    "        return:\n",
    "                matrix B containing all possible subgraphs of size k - dimensions are k*len(sub_m), k*len(sub_m)'''\n",
    "\n",
    "    G_n = len(G.nodes)\n",
    "    subG_n = len(subG)\n",
    "    num_subgraphs = int(binom(G_n-subG_n, k-subG_n))\n",
    "    #print(\"Number of combinations for subgraphs:\", num_subgraphs)\n",
    "\n",
    "    nodes = list(G.nodes)\n",
    "    test_nodes = [node for node in nodes if node not in subG]\n",
    "    test_list = list(itertools.combinations(test_nodes, k-subG_n))\n",
    "\n",
    "    poss_subg = [subG+list(i) for i in test_list]\n",
    "\n",
    "    # Construction of B\n",
    "    sub_m = [nx.convert_matrix.to_numpy_array(\n",
    "        G.subgraph(sub_nodes)) for sub_nodes in poss_subg]\n",
    "    B = np.zeros((k*num_subgraphs, k*num_subgraphs))\n",
    "    for i, j in enumerate(sub_m):\n",
    "        B[k*i:k*i+k, 0:k] = j\n",
    "    return (B, poss_subg)"
   ]
  },
  {
   "cell_type": "code",
   "execution_count": 8,
   "id": "562b5fef",
   "metadata": {},
   "outputs": [],
   "source": [
    "def densest_subgraphs(G, k=None, seed=[], nb_samples=100, Ns_min=100, preview=False):\n",
    "    '''Input: G - networkX graph to test \n",
    "              Ns - number of samples to generate with quantum device\n",
    "              seed - subgraph identified from optimized classical algorithm\n",
    "    return: subgraphs by order of selection'''\n",
    "    if not k: k = int(len(G.nodes)/2)\n",
    "    \n",
    "    # Initialization and preparing the device\n",
    "    B = construct_B(G, seed, k)\n",
    "    print(B[0].shape)\n",
    "    in_state = input_DS(int(len(B[0])/k), k)\n",
    "    U, c = to_unitary(B[0])\n",
    "\n",
    "    unitary_component = comp.Unitary(pcvl.Matrix(U))\n",
    "    proc = pcvl.Processor(\"CliffordClifford2017\", unitary_component)\n",
    "    proc.with_input(pcvl.BasicState(in_state))\n",
    "\n",
    "    # generating samples\n",
    "    samples = []\n",
    "    i = 0\n",
    "    sampler = Sampler(proc)\n",
    "    while len(samples) < Ns_min:\n",
    "        samples_device = sampler.samples(nb_samples)['results']\n",
    "        new_generation_samples = post_selectionDS(samples_device, k)\n",
    "        samples += new_generation_samples\n",
    "        i = i+1\n",
    "\n",
    "    timesG = np.zeros(len(B[1]))\n",
    "    if preview: print(\"Number of samples: \", len(samples), \"\\nTotal samples generated:\", nb_samples*i)\n",
    "    for sample in samples:\n",
    "        indexG = list(sample).index(1)\n",
    "        timesG[int(indexG/k)] = timesG[int(indexG/k)]+1\n",
    "    return sorted(zip(timesG, B[1]), reverse=True)"
   ]
  },
  {
   "cell_type": "code",
   "execution_count": 9,
   "id": "ec3fee29-3443-49d0-8f8a-f3e9d73296b6",
   "metadata": {},
   "outputs": [],
   "source": [
    "def delete_weakest_link(graph,chosen_edge):\n",
    "    nodes = list(graph.nodes())\n",
    "    graph.remove_edge(nodes[chosen_edge[0]], nodes[chosen_edge[1]])\n",
    "    return graph"
   ]
  },
  {
   "cell_type": "markdown",
   "id": "d325c9dc-de62-42a4-afc2-44bde1bd478e",
   "metadata": {},
   "source": [
    "#### Example"
   ]
  },
  {
   "cell_type": "code",
   "execution_count": 10,
   "id": "e746edcf",
   "metadata": {},
   "outputs": [
    {
     "data": {
      "image/png": "[encoded data removed]",
      "text/plain": [
       "<Figure size 640x480 with 1 Axes>"
      ]
     },
     "metadata": {},
     "output_type": "display_data"
    }
   ],
   "source": [
    "g = create_graph(n=5)\n",
    "nx.draw_networkx(g)"
   ]
  },
  {
   "cell_type": "code",
   "execution_count": 11,
   "id": "c64b4936",
   "metadata": {},
   "outputs": [
    {
     "name": "stdout",
     "output_type": "stream",
     "text": [
      "(20, 20)\n",
      "Number of samples:  113 \n",
      "Total samples generated: 400\n",
      "[(32.0, [2, 4]), (29.0, [1, 3]), (28.0, [0, 4]), (24.0, [2, 3]), (0.0, [3, 4]), (0.0, [1, 4]), (0.0, [1, 2]), (0.0, [0, 3]), (0.0, [0, 2]), (0.0, [0, 1])]\n",
      "CPU times: user 466 ms, sys: 6.86 ms, total: 473 ms\n",
      "Wall time: 62.7 ms\n"
     ]
    }
   ],
   "source": [
    "%%time\n",
    "res = densest_subgraphs(g,preview=True)\n",
    "print(res)"
   ]
  },
  {
   "cell_type": "markdown",
   "id": "ca07f3d2-0531-4379-a1dc-8755c1a9f258",
   "metadata": {},
   "source": [
    "#### Strategy: removing weak links"
   ]
  },
  {
   "cell_type": "code",
   "execution_count": 12,
   "id": "bc57a941-518d-44cd-a84d-905ee64f3166",
   "metadata": {},
   "outputs": [
    {
     "data": {
      "image/png": "[encoded data removed]",
      "text/plain": [
       "<Figure size 640x480 with 1 Axes>"
      ]
     },
     "metadata": {},
     "output_type": "display_data"
    }
   ],
   "source": [
    "g = create_graph(n=5)\n",
    "nx.draw_networkx(g)"
   ]
  },
  {
   "cell_type": "code",
   "execution_count": 13,
   "id": "fff39fdb-2367-454e-acc0-c433dbfd9c3b",
   "metadata": {},
   "outputs": [],
   "source": [
    "num_iterations = 5"
   ]
  },
  {
   "cell_type": "code",
   "execution_count": 15,
   "id": "4de1065a-7928-440a-807e-5b150454f4d9",
   "metadata": {
    "scrolled": true
   },
   "outputs": [
    {
     "name": "stderr",
     "output_type": "stream",
     "text": [
      "  0%|                                                     | 0/5 [00:00<?, ?it/s]/var/folders/lq/shl3t2n51mgdksn52y8zz7t00000gn/T/ipykernel_837/1764168611.py:20: RuntimeWarning: invalid value encountered in divide\n",
      "  An = A/lsv\n",
      "100%|████████████████████████████████████████████| 5/5 [00:00<00:00, 177.75it/s]"
     ]
    },
    {
     "name": "stdout",
     "output_type": "stream",
     "text": [
      "(20, 20)\n",
      "forcing Q = R = zeros\n",
      "(20, 20)\n",
      "forcing Q = R = zeros\n",
      "(20, 20)\n",
      "forcing Q = R = zeros\n",
      "(20, 20)\n",
      "forcing Q = R = zeros\n",
      "(20, 20)\n",
      "forcing Q = R = zeros\n"
     ]
    },
    {
     "name": "stderr",
     "output_type": "stream",
     "text": [
      "\n"
     ]
    }
   ],
   "source": [
    "for i in tqdm(range(num_iterations)):\n",
    "    try:\n",
    "        res = densest_subgraphs(g,preview=True)\n",
    "        densest_subgraph = res[0][-1]\n",
    "        delete_weakest_link(g,densest_subgraph)\n",
    "        #calculate total flux\n",
    "    except:\n",
    "        pass"
   ]
  },
  {
   "cell_type": "code",
   "execution_count": null,
   "id": "651b149f-577c-4852-bced-6f9ab9e7e2a1",
   "metadata": {},
   "outputs": [],
   "source": []
  }
 ],
 "metadata": {
  "interpreter": {
   "hash": "765bd6793ea5362367183dba09c599ce34c84eeeb7f3172847d560f9d0858670"
  },
  "kernelspec": {
   "display_name": "hackathon",
   "language": "python",
   "name": "hackathon"
  },
  "language_info": {
   "codemirror_mode": {
    "name": "ipython",
    "version": 3
   },
   "file_extension": ".py",
   "mimetype": "text/x-python",
   "name": "python",
   "nbconvert_exporter": "python",
   "pygments_lexer": "ipython3",
   "version": "3.10.14"
  }
 },
 "nbformat": 4,
 "nbformat_minor": 5
}
